{
 "cells": [
  {
   "cell_type": "markdown",
   "id": "4218f0e8",
   "metadata": {
    "papermill": {
     "duration": 0.002724,
     "end_time": "2025-08-22T19:18:44.926394",
     "exception": false,
     "start_time": "2025-08-22T19:18:44.923670",
     "status": "completed"
    },
    "tags": []
   },
   "source": [
    "# Efficientnet b0"
   ]
  },
  {
   "cell_type": "code",
   "execution_count": 1,
   "id": "996e101c",
   "metadata": {
    "_cell_guid": "b1076dfc-b9ad-4769-8c92-a6c4dae69d19",
    "_uuid": "8f2839f25d086af736a60e9eeb907d3b93b6e0e5",
    "execution": {
     "iopub.execute_input": "2025-08-22T19:18:44.931662Z",
     "iopub.status.busy": "2025-08-22T19:18:44.931431Z",
     "iopub.status.idle": "2025-08-22T19:18:54.818880Z",
     "shell.execute_reply": "2025-08-22T19:18:54.818244Z"
    },
    "papermill": {
     "duration": 9.891437,
     "end_time": "2025-08-22T19:18:54.820236",
     "exception": false,
     "start_time": "2025-08-22T19:18:44.928799",
     "status": "completed"
    },
    "tags": []
   },
   "outputs": [],
   "source": [
    "import os, sys, math, time, json, random\n",
    "from pathlib import Path\n",
    "import numpy as np\n",
    "import torch\n",
    "import torch.nn as nn\n",
    "import torch.optim as optim\n",
    "from torch.utils.data import Dataset, DataLoader, random_split\n",
    "from PIL import Image, ImageOps, ImageEnhance\n",
    "from torchvision import datasets, models\n",
    "from sklearn.metrics import classification_report, confusion_matrix, precision_score, recall_score, f1_score\n",
    "from tqdm import tqdm\n",
    "from torch.cuda.amp import autocast, GradScaler\n",
    "import matplotlib.pyplot as plt\n",
    "import os\n",
    "from PIL import Image\n",
    "from torch.utils.data import DataLoader\n",
    "from torchvision.datasets import ImageFolder\n",
    "import torchvision.transforms as transforms\n",
    "from torch.optim.lr_scheduler import ReduceLROnPlateau"
   ]
  },
  {
   "cell_type": "markdown",
   "id": "595fb639",
   "metadata": {
    "papermill": {
     "duration": 0.002054,
     "end_time": "2025-08-22T19:18:54.824896",
     "exception": false,
     "start_time": "2025-08-22T19:18:54.822842",
     "status": "completed"
    },
    "tags": []
   },
   "source": [
    "# 1. Data Augmentation and Split"
   ]
  },
  {
   "cell_type": "code",
   "execution_count": 2,
   "id": "039f0204",
   "metadata": {
    "execution": {
     "iopub.execute_input": "2025-08-22T19:18:54.830037Z",
     "iopub.status.busy": "2025-08-22T19:18:54.829725Z",
     "iopub.status.idle": "2025-08-22T19:18:54.923464Z",
     "shell.execute_reply": "2025-08-22T19:18:54.922685Z"
    },
    "papermill": {
     "duration": 0.097626,
     "end_time": "2025-08-22T19:18:54.924559",
     "exception": false,
     "start_time": "2025-08-22T19:18:54.826933",
     "status": "completed"
    },
    "tags": []
   },
   "outputs": [
    {
     "name": "stdout",
     "output_type": "stream",
     "text": [
      "Using device: cuda\n"
     ]
    }
   ],
   "source": [
    "batch_size = 32\n",
    "img_size = 224\n",
    "epochs = 20\n",
    "lr = 1e-4\n",
    "weight_decay = 1e-4\n",
    "num_workers = 2\n",
    "\n",
    "device = torch.device(\"cuda\" if torch.cuda.is_available() else \"cpu\")\n",
    "print(\"Using device:\", device)"
   ]
  },
  {
   "cell_type": "code",
   "execution_count": 3,
   "id": "39621ca5",
   "metadata": {
    "execution": {
     "iopub.execute_input": "2025-08-22T19:18:54.930263Z",
     "iopub.status.busy": "2025-08-22T19:18:54.929697Z",
     "iopub.status.idle": "2025-08-22T19:19:06.368580Z",
     "shell.execute_reply": "2025-08-22T19:19:06.367674Z"
    },
    "papermill": {
     "duration": 11.443013,
     "end_time": "2025-08-22T19:19:06.369915",
     "exception": false,
     "start_time": "2025-08-22T19:18:54.926902",
     "status": "completed"
    },
    "tags": []
   },
   "outputs": [
    {
     "name": "stdout",
     "output_type": "stream",
     "text": [
      "Classes: ['cercospora', 'healthy', 'mites_and_trips', 'nutritional', 'powdery mildew']\n"
     ]
    }
   ],
   "source": [
    "data_transforms = {\n",
    "    \"train\": transforms.Compose([\n",
    "        transforms.Resize((224, 224)),\n",
    "        transforms.ToTensor(),\n",
    "        transforms.Normalize([0.485, 0.456, 0.406],\n",
    "                             [0.229, 0.224, 0.225])\n",
    "    ]),\n",
    "    \"val\": transforms.Compose([\n",
    "        transforms.Resize((224, 224)),\n",
    "        transforms.ToTensor(),\n",
    "        transforms.Normalize([0.485, 0.456, 0.406],\n",
    "                             [0.229, 0.224, 0.225])\n",
    "    ]),\n",
    "    \"test\": transforms.Compose([\n",
    "        transforms.Resize((224, 224)),\n",
    "        transforms.ToTensor(),\n",
    "        transforms.Normalize([0.485, 0.456, 0.406],\n",
    "                             [0.229, 0.224, 0.225])\n",
    "    ])\n",
    "}\n",
    "\n",
    "data_dir = \"/kaggle/input/chilli-dataset/Mehedi2\"\n",
    "\n",
    "image_datasets = {\n",
    "    x: datasets.ImageFolder(os.path.join(data_dir, x), transform=data_transforms[x])\n",
    "    for x in [\"train\", \"val\", \"test\"]\n",
    "}\n",
    "\n",
    "dataloaders = {\n",
    "    x: DataLoader(image_datasets[x], batch_size=32, shuffle=True, num_workers=2)\n",
    "    for x in [\"train\", \"val\", \"test\"]\n",
    "}\n",
    "\n",
    "class_names = image_datasets[\"train\"].classes\n",
    "print(\"Classes:\", class_names)"
   ]
  },
  {
   "cell_type": "markdown",
   "id": "394c0c6e",
   "metadata": {
    "papermill": {
     "duration": 0.002246,
     "end_time": "2025-08-22T19:19:06.374744",
     "exception": false,
     "start_time": "2025-08-22T19:19:06.372498",
     "status": "completed"
    },
    "tags": []
   },
   "source": [
    "# 2. Early Stopping"
   ]
  },
  {
   "cell_type": "code",
   "execution_count": 4,
   "id": "78c4f084",
   "metadata": {
    "execution": {
     "iopub.execute_input": "2025-08-22T19:19:06.380488Z",
     "iopub.status.busy": "2025-08-22T19:19:06.380233Z",
     "iopub.status.idle": "2025-08-22T19:19:06.385310Z",
     "shell.execute_reply": "2025-08-22T19:19:06.384757Z"
    },
    "papermill": {
     "duration": 0.009309,
     "end_time": "2025-08-22T19:19:06.386449",
     "exception": false,
     "start_time": "2025-08-22T19:19:06.377140",
     "status": "completed"
    },
    "tags": []
   },
   "outputs": [],
   "source": [
    "class EarlyStopping:\n",
    "    def __init__(self, patience=3, min_delta=0.0):\n",
    "        self.patience = patience\n",
    "        self.min_delta = min_delta\n",
    "        self.counter = 0\n",
    "        self.best = float('inf')\n",
    "        self.early_stop = False\n",
    "    def step(self, val_loss):\n",
    "        if val_loss < self.best - self.min_delta:\n",
    "            self.best = val_loss\n",
    "            self.counter = 0\n",
    "        else:\n",
    "            self.counter += 1\n",
    "            if self.counter >= self.patience:\n",
    "                self.early_stop = True\n",
    "        return self.early_stop\n",
    "\n",
    "early_stopping = EarlyStopping(patience=3, min_delta=1e-4)"
   ]
  },
  {
   "cell_type": "markdown",
   "id": "f131de13",
   "metadata": {
    "papermill": {
     "duration": 0.002233,
     "end_time": "2025-08-22T19:19:06.390990",
     "exception": false,
     "start_time": "2025-08-22T19:19:06.388757",
     "status": "completed"
    },
    "tags": []
   },
   "source": [
    "# 3. Loading Model"
   ]
  },
  {
   "cell_type": "code",
   "execution_count": 5,
   "id": "398e052e",
   "metadata": {
    "execution": {
     "iopub.execute_input": "2025-08-22T19:19:06.396200Z",
     "iopub.status.busy": "2025-08-22T19:19:06.395996Z",
     "iopub.status.idle": "2025-08-22T19:19:07.318781Z",
     "shell.execute_reply": "2025-08-22T19:19:07.317994Z"
    },
    "papermill": {
     "duration": 0.92691,
     "end_time": "2025-08-22T19:19:07.320090",
     "exception": false,
     "start_time": "2025-08-22T19:19:06.393180",
     "status": "completed"
    },
    "tags": []
   },
   "outputs": [
    {
     "name": "stderr",
     "output_type": "stream",
     "text": [
      "Downloading: \"https://download.pytorch.org/models/efficientnet_b0_rwightman-7f5810bc.pth\" to /root/.cache/torch/hub/checkpoints/efficientnet_b0_rwightman-7f5810bc.pth\n",
      "100%|██████████| 20.5M/20.5M [00:00<00:00, 54.5MB/s]\n",
      "/tmp/ipykernel_19/2493044077.py:14: FutureWarning: `torch.cuda.amp.GradScaler(args...)` is deprecated. Please use `torch.amp.GradScaler('cuda', args...)` instead.\n",
      "  scaler = GradScaler(enabled=(device.type == \"cuda\"))\n"
     ]
    }
   ],
   "source": [
    "def get_model(num_classes):\n",
    "    model = models.efficientnet_b0(weights=models.EfficientNet_B0_Weights.DEFAULT)\n",
    "    model.classifier[1] = nn.Sequential(\n",
    "    nn.Dropout(p=0.6),\n",
    "    nn.Linear(model.classifier[1].in_features, num_classes)\n",
    "    )\n",
    "    return model.to(device)\n",
    "\n",
    "num_classes = len(class_names)\n",
    "model = get_model(num_classes)\n",
    "criterion = nn.CrossEntropyLoss()\n",
    "optimizer = optim.AdamW(model.parameters(), lr=lr, weight_decay=weight_decay)\n",
    "scheduler = ReduceLROnPlateau(optimizer, mode='min', factor=0.5, patience=3)\n",
    "scaler = GradScaler(enabled=(device.type == \"cuda\"))"
   ]
  },
  {
   "cell_type": "markdown",
   "id": "c2e65fa5",
   "metadata": {
    "papermill": {
     "duration": 0.002366,
     "end_time": "2025-08-22T19:19:07.325246",
     "exception": false,
     "start_time": "2025-08-22T19:19:07.322880",
     "status": "completed"
    },
    "tags": []
   },
   "source": [
    "# 4. Training and saving the model"
   ]
  },
  {
   "cell_type": "code",
   "execution_count": 6,
   "id": "fd5eb483",
   "metadata": {
    "execution": {
     "iopub.execute_input": "2025-08-22T19:19:07.331157Z",
     "iopub.status.busy": "2025-08-22T19:19:07.330930Z",
     "iopub.status.idle": "2025-08-22T19:24:03.728485Z",
     "shell.execute_reply": "2025-08-22T19:24:03.727624Z"
    },
    "papermill": {
     "duration": 296.401985,
     "end_time": "2025-08-22T19:24:03.729631",
     "exception": false,
     "start_time": "2025-08-22T19:19:07.327646",
     "status": "completed"
    },
    "tags": []
   },
   "outputs": [
    {
     "name": "stdout",
     "output_type": "stream",
     "text": [
      "Epoch 1/20\n"
     ]
    },
    {
     "name": "stderr",
     "output_type": "stream",
     "text": [
      "100%|██████████| 279/279 [00:29<00:00,  9.54it/s]\n",
      "100%|██████████| 69/69 [00:06<00:00,  9.93it/s]\n"
     ]
    },
    {
     "name": "stdout",
     "output_type": "stream",
     "text": [
      "  train_loss=0.5788 | val_loss=0.0987 | val_f1=0.9713 | lr=1.00e-04\n",
      " New best F1: 0.9713 — saved to efficientnet_b0_best.pth\n",
      "Epoch 2/20\n"
     ]
    },
    {
     "name": "stderr",
     "output_type": "stream",
     "text": [
      "100%|██████████| 279/279 [00:27<00:00, 10.24it/s]\n",
      "100%|██████████| 69/69 [00:04<00:00, 15.10it/s]\n"
     ]
    },
    {
     "name": "stdout",
     "output_type": "stream",
     "text": [
      "  train_loss=0.0992 | val_loss=0.0264 | val_f1=0.9927 | lr=1.00e-04\n",
      " New best F1: 0.9927 — saved to efficientnet_b0_best.pth\n",
      "Epoch 3/20\n"
     ]
    },
    {
     "name": "stderr",
     "output_type": "stream",
     "text": [
      "100%|██████████| 279/279 [00:27<00:00, 10.03it/s]\n",
      "100%|██████████| 69/69 [00:04<00:00, 15.54it/s]\n"
     ]
    },
    {
     "name": "stdout",
     "output_type": "stream",
     "text": [
      "  train_loss=0.0451 | val_loss=0.0098 | val_f1=0.9977 | lr=1.00e-04\n",
      " New best F1: 0.9977 — saved to efficientnet_b0_best.pth\n",
      "Epoch 4/20\n"
     ]
    },
    {
     "name": "stderr",
     "output_type": "stream",
     "text": [
      "100%|██████████| 279/279 [00:28<00:00,  9.78it/s]\n",
      "100%|██████████| 69/69 [00:04<00:00, 15.52it/s]\n"
     ]
    },
    {
     "name": "stdout",
     "output_type": "stream",
     "text": [
      "  train_loss=0.0260 | val_loss=0.0093 | val_f1=0.9964 | lr=1.00e-04\n",
      "Epoch 5/20\n"
     ]
    },
    {
     "name": "stderr",
     "output_type": "stream",
     "text": [
      "100%|██████████| 279/279 [00:27<00:00, 10.02it/s]\n",
      "100%|██████████| 69/69 [00:04<00:00, 15.61it/s]\n"
     ]
    },
    {
     "name": "stdout",
     "output_type": "stream",
     "text": [
      "  train_loss=0.0220 | val_loss=0.0079 | val_f1=0.9973 | lr=1.00e-04\n",
      "Epoch 6/20\n"
     ]
    },
    {
     "name": "stderr",
     "output_type": "stream",
     "text": [
      "100%|██████████| 279/279 [00:28<00:00,  9.91it/s]\n",
      "100%|██████████| 69/69 [00:04<00:00, 15.21it/s]\n"
     ]
    },
    {
     "name": "stdout",
     "output_type": "stream",
     "text": [
      "  train_loss=0.0184 | val_loss=0.0075 | val_f1=0.9973 | lr=1.00e-04\n",
      "Epoch 7/20\n"
     ]
    },
    {
     "name": "stderr",
     "output_type": "stream",
     "text": [
      "100%|██████████| 279/279 [00:28<00:00,  9.96it/s]\n",
      "100%|██████████| 69/69 [00:04<00:00, 14.70it/s]\n"
     ]
    },
    {
     "name": "stdout",
     "output_type": "stream",
     "text": [
      "  train_loss=0.0127 | val_loss=0.0106 | val_f1=0.9977 | lr=1.00e-04\n",
      "Epoch 8/20\n"
     ]
    },
    {
     "name": "stderr",
     "output_type": "stream",
     "text": [
      "100%|██████████| 279/279 [00:27<00:00, 10.01it/s]\n",
      "100%|██████████| 69/69 [00:04<00:00, 15.19it/s]\n"
     ]
    },
    {
     "name": "stdout",
     "output_type": "stream",
     "text": [
      "  train_loss=0.0140 | val_loss=0.0121 | val_f1=0.9977 | lr=1.00e-04\n",
      " New best F1: 0.9977 — saved to efficientnet_b0_best.pth\n",
      "Epoch 9/20\n"
     ]
    },
    {
     "name": "stderr",
     "output_type": "stream",
     "text": [
      "100%|██████████| 279/279 [00:27<00:00,  9.99it/s]\n",
      "100%|██████████| 69/69 [00:04<00:00, 15.05it/s]\n"
     ]
    },
    {
     "name": "stdout",
     "output_type": "stream",
     "text": [
      "  train_loss=0.0124 | val_loss=0.0093 | val_f1=0.9977 | lr=1.00e-04\n",
      " Early stopping triggered.\n"
     ]
    }
   ],
   "source": [
    "train_losses, val_losses, val_f1s = [], [], []\n",
    "best_f1 = -1.0\n",
    "best_path = \"efficientnet_b0_best.pth\"\n",
    "\n",
    "def run_epoch(loader, model, train=True):\n",
    "    if train:\n",
    "        model.train()\n",
    "    else:\n",
    "        model.eval()\n",
    "\n",
    "    running_loss = 0.0\n",
    "    y_true, y_pred = [], []\n",
    "\n",
    "    pbar = tqdm(loader, total=len(loader))\n",
    "    for images, labels in pbar:\n",
    "        images = images.to(device, non_blocking=True).float()\n",
    "        labels = torch.as_tensor(labels, device=device)\n",
    "\n",
    "        optimizer.zero_grad(set_to_none=True)\n",
    "        with torch.amp.autocast('cuda'):\n",
    "            outputs = model(images)\n",
    "            loss = criterion(outputs, labels)\n",
    "\n",
    "        if train:\n",
    "            scaler.scale(loss).backward()\n",
    "            scaler.step(optimizer)\n",
    "            scaler.update()\n",
    "\n",
    "        running_loss += loss.item() * images.size(0)\n",
    "        preds = outputs.argmax(1).detach().cpu().numpy()\n",
    "        y_pred.extend(preds.tolist())\n",
    "        y_true.extend(labels.detach().cpu().numpy().tolist())\n",
    "\n",
    "    epoch_loss = running_loss / len(loader.dataset)\n",
    "    report = classification_report(y_true, y_pred, output_dict=True, zero_division=0)\n",
    "    f1 = report['weighted avg']['f1-score']\n",
    "    return epoch_loss, f1, report\n",
    "\n",
    "for epoch in range(1, epochs + 1):\n",
    "    print(f\"Epoch {epoch}/{epochs}\")\n",
    "\n",
    "    tr_loss, tr_f1, _ = run_epoch(dataloaders[\"train\"], model, train=True)\n",
    "    with torch.no_grad():\n",
    "        val_loss, val_f1, val_report = run_epoch(dataloaders[\"val\"], model, train=False)\n",
    "\n",
    "    train_losses.append(tr_loss)\n",
    "    val_losses.append(val_loss)\n",
    "    val_f1s.append(val_f1)\n",
    "\n",
    "    scheduler.step(val_loss)\n",
    "\n",
    "    print(f\"  train_loss={tr_loss:.4f} | val_loss={val_loss:.4f} | val_f1={val_f1:.4f} | lr={optimizer.param_groups[0]['lr']:.2e}\")\n",
    "\n",
    "    if val_f1 > best_f1:\n",
    "        best_f1 = val_f1\n",
    "        torch.save(model.state_dict(), best_path)\n",
    "        print(f\" New best F1: {best_f1:.4f} — saved to {best_path}\")\n",
    "\n",
    "    if early_stopping.step(val_loss):\n",
    "        print(\" Early stopping triggered.\")\n",
    "        break"
   ]
  },
  {
   "cell_type": "markdown",
   "id": "1d57000f",
   "metadata": {
    "papermill": {
     "duration": 0.07027,
     "end_time": "2025-08-22T19:24:03.873236",
     "exception": false,
     "start_time": "2025-08-22T19:24:03.802966",
     "status": "completed"
    },
    "tags": []
   },
   "source": [
    "# 5. Plotting Loss Curve"
   ]
  },
  {
   "cell_type": "code",
   "execution_count": 7,
   "id": "433f0ab4",
   "metadata": {
    "execution": {
     "iopub.execute_input": "2025-08-22T19:24:04.017588Z",
     "iopub.status.busy": "2025-08-22T19:24:04.017272Z",
     "iopub.status.idle": "2025-08-22T19:24:10.931464Z",
     "shell.execute_reply": "2025-08-22T19:24:10.930664Z"
    },
    "papermill": {
     "duration": 6.98714,
     "end_time": "2025-08-22T19:24:10.932530",
     "exception": false,
     "start_time": "2025-08-22T19:24:03.945390",
     "status": "completed"
    },
    "tags": []
   },
   "outputs": [
    {
     "name": "stderr",
     "output_type": "stream",
     "text": [
      "100%|██████████| 70/70 [00:06<00:00, 10.61it/s]\n"
     ]
    },
    {
     "name": "stdout",
     "output_type": "stream",
     "text": [
      "Test F1: 0.9977509380557323\n",
      "{\n",
      "  \"0\": {\n",
      "    \"precision\": 0.9951768488745981,\n",
      "    \"recall\": 0.9967793880837359,\n",
      "    \"f1-score\": 0.9959774738535802,\n",
      "    \"support\": 621\n",
      "  },\n",
      "  \"1\": {\n",
      "    \"precision\": 0.9983818770226537,\n",
      "    \"recall\": 1.0,\n",
      "    \"f1-score\": 0.9991902834008096,\n",
      "    \"support\": 617\n",
      "  },\n",
      "  \"2\": {\n",
      "    \"precision\": 1.0,\n",
      "    \"recall\": 1.0,\n",
      "    \"f1-score\": 1.0,\n",
      "    \"support\": 377\n",
      "  },\n",
      "  \"3\": {\n",
      "    \"precision\": 1.0,\n",
      "    \"recall\": 1.0,\n",
      "    \"f1-score\": 1.0,\n",
      "    \"support\": 305\n",
      "  },\n",
      "  \"4\": {\n",
      "    \"precision\": 0.9966996699669967,\n",
      "    \"recall\": 0.9901639344262295,\n",
      "    \"f1-score\": 0.9934210526315789,\n",
      "    \"support\": 305\n",
      "  },\n",
      "  \"accuracy\": 0.9977528089887641,\n",
      "  \"macro avg\": {\n",
      "    \"precision\": 0.9980516791728498,\n",
      "    \"recall\": 0.9973886645019931,\n",
      "    \"f1-score\": 0.9977177619771938,\n",
      "    \"support\": 2225\n",
      "  },\n",
      "  \"weighted avg\": {\n",
      "    \"precision\": 0.9977527373546232,\n",
      "    \"recall\": 0.9977528089887641,\n",
      "    \"f1-score\": 0.9977509380557323,\n",
      "    \"support\": 2225\n",
      "  }\n",
      "}\n"
     ]
    },
    {
     "data": {
      "image/png": "[encoded data removed]",
      "text/plain": [
       "<Figure size 640x480 with 1 Axes>"
      ]
     },
     "metadata": {},
     "output_type": "display_data"
    }
   ],
   "source": [
    "if Path(best_path).exists():\n",
    "    model.load_state_dict(torch.load(best_path, map_location=device))\n",
    "\n",
    "with torch.no_grad():\n",
    "    test_loss, test_f1, test_report = run_epoch(dataloaders[\"test\"], model, train=False)\n",
    "\n",
    "print(\"Test F1:\", test_f1)\n",
    "print(json.dumps(test_report, indent=2))\n",
    "\n",
    "plt.plot(train_losses, label='Train Loss')\n",
    "plt.plot(val_losses, label='Validation Loss')\n",
    "plt.xlabel('Epoch')\n",
    "plt.ylabel('Loss')\n",
    "plt.legend()\n",
    "plt.title(\"Training and Validation Loss (Efficientnet_B0)\")\n",
    "plt.show()"
   ]
  }
 ],
 "metadata": {
  "kaggle": {
   "accelerator": "nvidiaTeslaT4",
   "dataSources": [
    {
     "datasetId": 8118772,
     "sourceId": 12836968,
     "sourceType": "datasetVersion"
    }
   ],
   "dockerImageVersionId": 31090,
   "isGpuEnabled": true,
   "isInternetEnabled": true,
   "language": "python",
   "sourceType": "notebook"
  },
  "kernelspec": {
   "display_name": "Python 3",
   "language": "python",
   "name": "python3"
  },
  "language_info": {
   "codemirror_mode": {
    "name": "ipython",
    "version": 3
   },
   "file_extension": ".py",
   "mimetype": "text/x-python",
   "name": "python",
   "nbconvert_exporter": "python",
   "pygments_lexer": "ipython3",
   "version": "3.11.13"
  },
  "papermill": {
   "default_parameters": {},
   "duration": 332.342973,
   "end_time": "2025-08-22T19:24:13.249847",
   "environment_variables": {},
   "exception": null,
   "input_path": "__notebook__.ipynb",
   "output_path": "__notebook__.ipynb",
   "parameters": {},
   "start_time": "2025-08-22T19:18:40.906874",
   "version": "2.6.0"
  }
 },
 "nbformat": 4,
 "nbformat_minor": 5
}
