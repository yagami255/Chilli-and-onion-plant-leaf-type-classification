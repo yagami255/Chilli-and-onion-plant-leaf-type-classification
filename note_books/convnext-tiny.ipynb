{
 "cells": [
  {
   "cell_type": "markdown",
   "id": "f74ad93a",
   "metadata": {
    "papermill": {
     "duration": 0.002906,
     "end_time": "2025-08-22T20:24:32.860574",
     "exception": false,
     "start_time": "2025-08-22T20:24:32.857668",
     "status": "completed"
    },
    "tags": []
   },
   "source": [
    "# Convnext-Tiny"
   ]
  },
  {
   "cell_type": "code",
   "execution_count": 1,
   "id": "43a5fba7",
   "metadata": {
    "_cell_guid": "b1076dfc-b9ad-4769-8c92-a6c4dae69d19",
    "_uuid": "8f2839f25d086af736a60e9eeb907d3b93b6e0e5",
    "execution": {
     "iopub.execute_input": "2025-08-22T20:24:32.866284Z",
     "iopub.status.busy": "2025-08-22T20:24:32.866064Z",
     "iopub.status.idle": "2025-08-22T20:24:49.671566Z",
     "shell.execute_reply": "2025-08-22T20:24:49.670997Z"
    },
    "papermill": {
     "duration": 16.80976,
     "end_time": "2025-08-22T20:24:49.672963",
     "exception": false,
     "start_time": "2025-08-22T20:24:32.863203",
     "status": "completed"
    },
    "tags": []
   },
   "outputs": [],
   "source": [
    "import os, sys, math, time, json, random\n",
    "from pathlib import Path\n",
    "import numpy as np\n",
    "import torch\n",
    "import torch.nn as nn\n",
    "import torch.optim as optim\n",
    "from torch.utils.data import Dataset, DataLoader, random_split\n",
    "from PIL import Image, ImageOps, ImageEnhance\n",
    "import timm\n",
    "from torchvision import datasets\n",
    "from sklearn.metrics import classification_report, confusion_matrix, precision_score, recall_score, f1_score\n",
    "from tqdm import tqdm\n",
    "from torch.cuda.amp import autocast, GradScaler\n",
    "import matplotlib.pyplot as plt\n",
    "import os\n",
    "from PIL import Image\n",
    "from torch.utils.data import DataLoader\n",
    "from torchvision.datasets import ImageFolder\n",
    "import torchvision.transforms as transforms\n",
    "import seaborn as sns"
   ]
  },
  {
   "cell_type": "markdown",
   "id": "cb0f0e4d",
   "metadata": {
    "papermill": {
     "duration": 0.002167,
     "end_time": "2025-08-22T20:24:49.677780",
     "exception": false,
     "start_time": "2025-08-22T20:24:49.675613",
     "status": "completed"
    },
    "tags": []
   },
   "source": [
    "# 1. Data Loadder"
   ]
  },
  {
   "cell_type": "code",
   "execution_count": 2,
   "id": "fd55a496",
   "metadata": {
    "execution": {
     "iopub.execute_input": "2025-08-22T20:24:49.683363Z",
     "iopub.status.busy": "2025-08-22T20:24:49.683043Z",
     "iopub.status.idle": "2025-08-22T20:24:49.773821Z",
     "shell.execute_reply": "2025-08-22T20:24:49.773142Z"
    },
    "papermill": {
     "duration": 0.094843,
     "end_time": "2025-08-22T20:24:49.774944",
     "exception": false,
     "start_time": "2025-08-22T20:24:49.680101",
     "status": "completed"
    },
    "tags": []
   },
   "outputs": [
    {
     "name": "stdout",
     "output_type": "stream",
     "text": [
      "Using device: cuda\n"
     ]
    }
   ],
   "source": [
    "batch_size = 32\n",
    "img_size = 224\n",
    "epochs = 20\n",
    "lr = 1e-4\n",
    "weight_decay = 1e-4\n",
    "num_workers = 2\n",
    "\n",
    "device = torch.device(\"cuda\" if torch.cuda.is_available() else \"cpu\")\n",
    "print(\"Using device:\", device)"
   ]
  },
  {
   "cell_type": "code",
   "execution_count": 3,
   "id": "1ac7252b",
   "metadata": {
    "execution": {
     "iopub.execute_input": "2025-08-22T20:24:49.780799Z",
     "iopub.status.busy": "2025-08-22T20:24:49.780328Z",
     "iopub.status.idle": "2025-08-22T20:25:01.365904Z",
     "shell.execute_reply": "2025-08-22T20:25:01.365087Z"
    },
    "papermill": {
     "duration": 11.589813,
     "end_time": "2025-08-22T20:25:01.367238",
     "exception": false,
     "start_time": "2025-08-22T20:24:49.777425",
     "status": "completed"
    },
    "tags": []
   },
   "outputs": [
    {
     "name": "stdout",
     "output_type": "stream",
     "text": [
      "Classes: ['cercospora', 'healthy', 'mites_and_trips', 'nutritional', 'powdery mildew']\n"
     ]
    }
   ],
   "source": [
    "data_transforms = {\n",
    "    \"train\": transforms.Compose([\n",
    "        transforms.Resize((224, 224)),\n",
    "        transforms.ToTensor(),\n",
    "        transforms.Normalize([0.485, 0.456, 0.406],\n",
    "                             [0.229, 0.224, 0.225])\n",
    "    ]),\n",
    "    \"val\": transforms.Compose([\n",
    "        transforms.Resize((224, 224)),\n",
    "        transforms.ToTensor(),\n",
    "        transforms.Normalize([0.485, 0.456, 0.406],\n",
    "                             [0.229, 0.224, 0.225])\n",
    "    ]),\n",
    "    \"test\": transforms.Compose([\n",
    "        transforms.Resize((224, 224)),\n",
    "        transforms.ToTensor(),\n",
    "        transforms.Normalize([0.485, 0.456, 0.406],\n",
    "                             [0.229, 0.224, 0.225])\n",
    "    ])\n",
    "}\n",
    "\n",
    "data_dir = \"/kaggle/input/chilli-dataset/Mehedi2\"\n",
    "\n",
    "image_datasets = {\n",
    "    x: datasets.ImageFolder(os.path.join(data_dir, x), transform=data_transforms[x])\n",
    "    for x in [\"train\", \"val\", \"test\"]\n",
    "}\n",
    "\n",
    "dataloaders = {\n",
    "    x: DataLoader(image_datasets[x], batch_size=32, shuffle=True, num_workers=2)\n",
    "    for x in [\"train\", \"val\", \"test\"]\n",
    "}\n",
    "\n",
    "class_names = image_datasets[\"train\"].classes\n",
    "print(\"Classes:\", class_names)"
   ]
  },
  {
   "cell_type": "markdown",
   "id": "5446b8ce",
   "metadata": {
    "papermill": {
     "duration": 0.00227,
     "end_time": "2025-08-22T20:25:01.372441",
     "exception": false,
     "start_time": "2025-08-22T20:25:01.370171",
     "status": "completed"
    },
    "tags": []
   },
   "source": [
    "# 2. Model: ConvNeXt Tiny"
   ]
  },
  {
   "cell_type": "code",
   "execution_count": 4,
   "id": "a75b250a",
   "metadata": {
    "execution": {
     "iopub.execute_input": "2025-08-22T20:25:01.377977Z",
     "iopub.status.busy": "2025-08-22T20:25:01.377736Z",
     "iopub.status.idle": "2025-08-22T20:25:02.871273Z",
     "shell.execute_reply": "2025-08-22T20:25:02.870593Z"
    },
    "papermill": {
     "duration": 1.497746,
     "end_time": "2025-08-22T20:25:02.872545",
     "exception": false,
     "start_time": "2025-08-22T20:25:01.374799",
     "status": "completed"
    },
    "tags": []
   },
   "outputs": [
    {
     "data": {
      "application/vnd.jupyter.widget-view+json": {
       "model_id": "cd2f1c7aad3f4f4a8b5c5779366f0406",
       "version_major": 2,
       "version_minor": 0
      },
      "text/plain": [
       "model.safetensors:   0%|          | 0.00/114M [00:00<?, ?B/s]"
      ]
     },
     "metadata": {},
     "output_type": "display_data"
    },
    {
     "name": "stderr",
     "output_type": "stream",
     "text": [
      "/tmp/ipykernel_19/3530449523.py:10: FutureWarning: `torch.cuda.amp.GradScaler(args...)` is deprecated. Please use `torch.amp.GradScaler('cuda', args...)` instead.\n",
      "  scaler = GradScaler(enabled=(device.type == \"cuda\"))\n"
     ]
    }
   ],
   "source": [
    "def get_model(num_classes):\n",
    "    model = timm.create_model('convnext_tiny', pretrained=True, num_classes=num_classes)\n",
    "    return model.to(device)\n",
    "\n",
    "num_classes = len(class_names)\n",
    "model = get_model(num_classes)\n",
    "criterion = nn.CrossEntropyLoss()\n",
    "optimizer = optim.AdamW(model.parameters(), lr=lr, weight_decay=weight_decay)\n",
    "scheduler = optim.lr_scheduler.ReduceLROnPlateau(optimizer, mode='min', factor=0.5, patience=2)\n",
    "scaler = GradScaler(enabled=(device.type == \"cuda\"))"
   ]
  },
  {
   "cell_type": "markdown",
   "id": "3f3c1b50",
   "metadata": {
    "papermill": {
     "duration": 0.002337,
     "end_time": "2025-08-22T20:25:02.877795",
     "exception": false,
     "start_time": "2025-08-22T20:25:02.875458",
     "status": "completed"
    },
    "tags": []
   },
   "source": [
    "# 3. Early Stopping"
   ]
  },
  {
   "cell_type": "code",
   "execution_count": 5,
   "id": "413b334b",
   "metadata": {
    "execution": {
     "iopub.execute_input": "2025-08-22T20:25:02.883482Z",
     "iopub.status.busy": "2025-08-22T20:25:02.883268Z",
     "iopub.status.idle": "2025-08-22T20:25:02.887783Z",
     "shell.execute_reply": "2025-08-22T20:25:02.887258Z"
    },
    "papermill": {
     "duration": 0.008617,
     "end_time": "2025-08-22T20:25:02.888829",
     "exception": false,
     "start_time": "2025-08-22T20:25:02.880212",
     "status": "completed"
    },
    "tags": []
   },
   "outputs": [],
   "source": [
    "class EarlyStopping:\n",
    "    def __init__(self, patience=3, min_delta=0.0):\n",
    "        self.patience = patience\n",
    "        self.min_delta = min_delta\n",
    "        self.counter = 0\n",
    "        self.best = float('inf')\n",
    "        self.early_stop = False\n",
    "    def step(self, val_loss):\n",
    "        if val_loss < self.best - self.min_delta:\n",
    "            self.best = val_loss\n",
    "            self.counter = 0\n",
    "        else:\n",
    "            self.counter += 1\n",
    "            if self.counter >= self.patience:\n",
    "                self.early_stop = True\n",
    "        return self.early_stop\n",
    "\n",
    "early_stopping = EarlyStopping(patience=3, min_delta=1e-4)"
   ]
  },
  {
   "cell_type": "markdown",
   "id": "714e6ddd",
   "metadata": {
    "papermill": {
     "duration": 0.002332,
     "end_time": "2025-08-22T20:25:02.893628",
     "exception": false,
     "start_time": "2025-08-22T20:25:02.891296",
     "status": "completed"
    },
    "tags": []
   },
   "source": [
    "# 4. Training and saving the model"
   ]
  },
  {
   "cell_type": "code",
   "execution_count": 6,
   "id": "3ec10ae5",
   "metadata": {
    "execution": {
     "iopub.execute_input": "2025-08-22T20:25:02.899223Z",
     "iopub.status.busy": "2025-08-22T20:25:02.899040Z",
     "iopub.status.idle": "2025-08-22T20:36:44.978772Z",
     "shell.execute_reply": "2025-08-22T20:36:44.977949Z"
    },
    "papermill": {
     "duration": 702.084022,
     "end_time": "2025-08-22T20:36:44.980075",
     "exception": false,
     "start_time": "2025-08-22T20:25:02.896053",
     "status": "completed"
    },
    "tags": []
   },
   "outputs": [
    {
     "name": "stdout",
     "output_type": "stream",
     "text": [
      "Epoch 1/20\n"
     ]
    },
    {
     "name": "stderr",
     "output_type": "stream",
     "text": [
      "100%|██████████| 279/279 [00:46<00:00,  5.99it/s]\n",
      "100%|██████████| 69/69 [00:07<00:00,  9.77it/s]\n"
     ]
    },
    {
     "name": "stdout",
     "output_type": "stream",
     "text": [
      "  train_loss=0.2770 | val_loss=0.0417 | val_f1=0.9163 | lr=1.00e-04\n",
      " New best F1: 0.9163 — saved to Convne_best.pth\n",
      "Epoch 2/20\n"
     ]
    },
    {
     "name": "stderr",
     "output_type": "stream",
     "text": [
      "100%|██████████| 279/279 [00:49<00:00,  5.66it/s]\n",
      "100%|██████████| 69/69 [00:04<00:00, 14.37it/s]\n"
     ]
    },
    {
     "name": "stdout",
     "output_type": "stream",
     "text": [
      "  train_loss=0.0552 | val_loss=0.0175 | val_f1=0.9509 | lr=1.00e-04\n",
      " New best F1: 0.9509 — saved to Convne_best.pth\n",
      "Epoch 3/20\n"
     ]
    },
    {
     "name": "stderr",
     "output_type": "stream",
     "text": [
      "100%|██████████| 279/279 [00:48<00:00,  5.72it/s]\n",
      "100%|██████████| 69/69 [00:04<00:00, 14.34it/s]\n"
     ]
    },
    {
     "name": "stdout",
     "output_type": "stream",
     "text": [
      "  train_loss=0.0172 | val_loss=0.1009 | val_f1=0.9635 | lr=1.00e-04\n",
      " New best F1: 0.9635 — saved to Convne_best.pth\n",
      "Epoch 4/20\n"
     ]
    },
    {
     "name": "stderr",
     "output_type": "stream",
     "text": [
      "100%|██████████| 279/279 [00:49<00:00,  5.64it/s]\n",
      "100%|██████████| 69/69 [00:05<00:00, 13.11it/s]\n"
     ]
    },
    {
     "name": "stdout",
     "output_type": "stream",
     "text": [
      "  train_loss=0.0490 | val_loss=0.0186 | val_f1=0.9691 | lr=1.00e-04\n",
      " New best F1: 0.9691 — saved to Convne_best.pth\n",
      "Epoch 5/20\n"
     ]
    },
    {
     "name": "stderr",
     "output_type": "stream",
     "text": [
      "100%|██████████| 279/279 [00:48<00:00,  5.75it/s]\n",
      "100%|██████████| 69/69 [00:04<00:00, 14.42it/s]\n"
     ]
    },
    {
     "name": "stdout",
     "output_type": "stream",
     "text": [
      "  train_loss=0.0193 | val_loss=0.0155 | val_f1=0.9741 | lr=1.00e-04\n",
      " New best F1: 0.9741 — saved to Convne_best.pth\n",
      "Epoch 6/20\n"
     ]
    },
    {
     "name": "stderr",
     "output_type": "stream",
     "text": [
      "100%|██████████| 279/279 [00:48<00:00,  5.70it/s]\n",
      "100%|██████████| 69/69 [00:04<00:00, 14.16it/s]\n"
     ]
    },
    {
     "name": "stdout",
     "output_type": "stream",
     "text": [
      "  train_loss=0.0211 | val_loss=0.2470 | val_f1=0.9758 | lr=1.00e-04\n",
      " New best F1: 0.9758 — saved to Convne_best.pth\n",
      "Epoch 7/20\n"
     ]
    },
    {
     "name": "stderr",
     "output_type": "stream",
     "text": [
      "100%|██████████| 279/279 [00:48<00:00,  5.70it/s]\n",
      "100%|██████████| 69/69 [00:04<00:00, 14.62it/s]\n"
     ]
    },
    {
     "name": "stdout",
     "output_type": "stream",
     "text": [
      "  train_loss=0.0239 | val_loss=0.0082 | val_f1=0.9783 | lr=1.00e-04\n",
      " New best F1: 0.9783 — saved to Convne_best.pth\n",
      "Epoch 8/20\n"
     ]
    },
    {
     "name": "stderr",
     "output_type": "stream",
     "text": [
      "100%|██████████| 279/279 [00:48<00:00,  5.71it/s]\n",
      "100%|██████████| 69/69 [00:04<00:00, 14.43it/s]\n"
     ]
    },
    {
     "name": "stdout",
     "output_type": "stream",
     "text": [
      "  train_loss=0.0187 | val_loss=0.0415 | val_f1=0.9802 | lr=1.00e-04\n",
      " New best F1: 0.9802 — saved to Convne_best.pth\n",
      "Epoch 9/20\n"
     ]
    },
    {
     "name": "stderr",
     "output_type": "stream",
     "text": [
      "100%|██████████| 279/279 [00:49<00:00,  5.69it/s]\n",
      "100%|██████████| 69/69 [00:04<00:00, 14.70it/s]\n"
     ]
    },
    {
     "name": "stdout",
     "output_type": "stream",
     "text": [
      "  train_loss=0.0190 | val_loss=0.0082 | val_f1=0.9818 | lr=1.00e-04\n",
      " New best F1: 0.9818 — saved to Convne_best.pth\n",
      "Epoch 10/20\n"
     ]
    },
    {
     "name": "stderr",
     "output_type": "stream",
     "text": [
      "100%|██████████| 279/279 [00:48<00:00,  5.76it/s]\n",
      "100%|██████████| 69/69 [00:04<00:00, 14.47it/s]\n"
     ]
    },
    {
     "name": "stdout",
     "output_type": "stream",
     "text": [
      "  train_loss=0.0014 | val_loss=0.0076 | val_f1=0.9835 | lr=1.00e-04\n",
      " New best F1: 0.9835 — saved to Convne_best.pth\n",
      "Epoch 11/20\n"
     ]
    },
    {
     "name": "stderr",
     "output_type": "stream",
     "text": [
      "100%|██████████| 279/279 [00:48<00:00,  5.79it/s]\n",
      "100%|██████████| 69/69 [00:05<00:00, 13.80it/s]\n"
     ]
    },
    {
     "name": "stdout",
     "output_type": "stream",
     "text": [
      "  train_loss=0.0007 | val_loss=0.0123 | val_f1=0.9850 | lr=1.00e-04\n",
      " New best F1: 0.9850 — saved to Convne_best.pth\n",
      "Epoch 12/20\n"
     ]
    },
    {
     "name": "stderr",
     "output_type": "stream",
     "text": [
      "100%|██████████| 279/279 [00:48<00:00,  5.78it/s]\n",
      "100%|██████████| 69/69 [00:05<00:00, 13.22it/s]\n"
     ]
    },
    {
     "name": "stdout",
     "output_type": "stream",
     "text": [
      "  train_loss=0.0014 | val_loss=0.0115 | val_f1=0.9862 | lr=1.00e-04\n",
      " New best F1: 0.9862 — saved to Convne_best.pth\n",
      "Epoch 13/20\n"
     ]
    },
    {
     "name": "stderr",
     "output_type": "stream",
     "text": [
      "100%|██████████| 279/279 [00:48<00:00,  5.78it/s]\n",
      "100%|██████████| 69/69 [00:04<00:00, 14.40it/s]\n"
     ]
    },
    {
     "name": "stdout",
     "output_type": "stream",
     "text": [
      "  train_loss=0.0285 | val_loss=0.1400 | val_f1=0.9860 | lr=5.00e-05\n",
      " Early stopping triggered.\n"
     ]
    }
   ],
   "source": [
    "train_losses, val_losses, val_f1s = [], [], []\n",
    "best_f1 = -1.0\n",
    "best_path = \"Convne_best.pth\"\n",
    "y_true, y_pred = [], []\n",
    "\n",
    "def run_epoch(loader, model, train=True):\n",
    "    if train:\n",
    "        model.train()\n",
    "    else:\n",
    "        model.eval()\n",
    "\n",
    "    running_loss = 0.0\n",
    "\n",
    "    pbar = tqdm(loader, total=len(loader))\n",
    "    for images, labels in pbar:\n",
    "        images = images.to(device, non_blocking=True).float()\n",
    "        labels = torch.as_tensor(labels, device=device)\n",
    "\n",
    "        optimizer.zero_grad(set_to_none=True)\n",
    "        with torch.amp.autocast('cuda'):\n",
    "            outputs = model(images)\n",
    "            loss = criterion(outputs, labels)\n",
    "\n",
    "        if train:\n",
    "            scaler.scale(loss).backward()\n",
    "            scaler.step(optimizer)\n",
    "            scaler.update()\n",
    "\n",
    "        running_loss += loss.item() * images.size(0)\n",
    "        preds = outputs.argmax(1).detach().cpu().numpy()\n",
    "        y_pred.extend(preds.tolist())\n",
    "        y_true.extend(labels.detach().cpu().numpy().tolist())\n",
    "\n",
    "    epoch_loss = running_loss / len(loader.dataset)\n",
    "    report = classification_report(y_true, y_pred, output_dict=True, zero_division=0)\n",
    "    f1 = report['weighted avg']['f1-score']\n",
    "    return epoch_loss, f1, report\n",
    "\n",
    "for epoch in range(1, epochs + 1):\n",
    "    print(f\"Epoch {epoch}/{epochs}\")\n",
    "\n",
    "    tr_loss, tr_f1, _ = run_epoch(dataloaders[\"train\"], model, train=True)\n",
    "    with torch.no_grad():\n",
    "        val_loss, val_f1, val_report = run_epoch(dataloaders[\"val\"], model, train=False)\n",
    "\n",
    "    train_losses.append(tr_loss)\n",
    "    val_losses.append(val_loss)\n",
    "    val_f1s.append(val_f1)\n",
    "\n",
    "    scheduler.step(val_loss)\n",
    "\n",
    "    print(f\"  train_loss={tr_loss:.4f} | val_loss={val_loss:.4f} | val_f1={val_f1:.4f} | lr={optimizer.param_groups[0]['lr']:.2e}\")\n",
    "\n",
    "    if val_f1 > best_f1:\n",
    "        best_f1 = val_f1\n",
    "        torch.save(model.state_dict(), best_path)\n",
    "        print(f\" New best F1: {best_f1:.4f} — saved to {best_path}\")\n",
    "\n",
    "    if early_stopping.step(val_loss):\n",
    "        print(\" Early stopping triggered.\")\n",
    "        break"
   ]
  },
  {
   "cell_type": "markdown",
   "id": "bdf84cf4",
   "metadata": {
    "papermill": {
     "duration": 0.15762,
     "end_time": "2025-08-22T20:36:45.297553",
     "exception": false,
     "start_time": "2025-08-22T20:36:45.139933",
     "status": "completed"
    },
    "tags": []
   },
   "source": [
    "# 5. Evaluation & Plots"
   ]
  },
  {
   "cell_type": "code",
   "execution_count": 7,
   "id": "5b4db26b",
   "metadata": {
    "execution": {
     "iopub.execute_input": "2025-08-22T20:36:45.663252Z",
     "iopub.status.busy": "2025-08-22T20:36:45.662934Z",
     "iopub.status.idle": "2025-08-22T20:36:53.318772Z",
     "shell.execute_reply": "2025-08-22T20:36:53.317926Z"
    },
    "papermill": {
     "duration": 7.86555,
     "end_time": "2025-08-22T20:36:53.320311",
     "exception": false,
     "start_time": "2025-08-22T20:36:45.454761",
     "status": "completed"
    },
    "tags": []
   },
   "outputs": [
    {
     "name": "stderr",
     "output_type": "stream",
     "text": [
      "100%|██████████| 70/70 [00:07<00:00,  9.85it/s]\n"
     ]
    },
    {
     "name": "stdout",
     "output_type": "stream",
     "text": [
      "Test F1: 0.9861473418086328\n",
      "{\n",
      "  \"0\": {\n",
      "    \"precision\": 0.9892197273225146,\n",
      "    \"recall\": 0.9884504608294931,\n",
      "    \"f1-score\": 0.9888349444628528,\n",
      "    \"support\": 34720\n",
      "  },\n",
      "  \"1\": {\n",
      "    \"precision\": 0.985036686117049,\n",
      "    \"recall\": 0.9889217562786381,\n",
      "    \"f1-score\": 0.9869753979739508,\n",
      "    \"support\": 34482\n",
      "  },\n",
      "  \"2\": {\n",
      "    \"precision\": 0.9858957156676132,\n",
      "    \"recall\": 0.9867578625191292,\n",
      "    \"f1-score\": 0.9863266006930353,\n",
      "    \"support\": 32019\n",
      "  },\n",
      "  \"3\": {\n",
      "    \"precision\": 0.9764917831092363,\n",
      "    \"recall\": 0.9782541708852401,\n",
      "    \"f1-score\": 0.977372182517867,\n",
      "    \"support\": 22717\n",
      "  },\n",
      "  \"4\": {\n",
      "    \"precision\": 0.9932117662717955,\n",
      "    \"recall\": 0.985429414095171,\n",
      "    \"f1-score\": 0.9893052854870072,\n",
      "    \"support\": 22717\n",
      "  },\n",
      "  \"accuracy\": 0.9861443523916675,\n",
      "  \"macro avg\": {\n",
      "    \"precision\": 0.9859711356976417,\n",
      "    \"recall\": 0.9855627329215343,\n",
      "    \"f1-score\": 0.9857628822269426,\n",
      "    \"support\": 146655\n",
      "  },\n",
      "  \"weighted avg\": {\n",
      "    \"precision\": 0.9861572697458391,\n",
      "    \"recall\": 0.9861443523916675,\n",
      "    \"f1-score\": 0.9861473418086328,\n",
      "    \"support\": 146655\n",
      "  }\n",
      "}\n"
     ]
    },
    {
     "data": {
      "image/png": "[encoded data removed]",
      "text/plain": [
       "<Figure size 640x480 with 1 Axes>"
      ]
     },
     "metadata": {},
     "output_type": "display_data"
    }
   ],
   "source": [
    "if Path(best_path).exists():\n",
    "    model.load_state_dict(torch.load(best_path, map_location=device))\n",
    "\n",
    "with torch.no_grad():\n",
    "    test_loss, test_f1, test_report = run_epoch(dataloaders[\"test\"], model, train=False)\n",
    "\n",
    "print(\"Test F1:\", test_f1)\n",
    "print(json.dumps(test_report, indent=2))\n",
    "\n",
    "plt.plot(train_losses, label='Train Loss')\n",
    "plt.plot(val_losses, label='Validation Loss')\n",
    "plt.xlabel('Epoch')\n",
    "plt.ylabel('Loss')\n",
    "plt.legend()\n",
    "plt.title(\"Training and Validation Loss (ConvNeXt-Tiny)\")\n",
    "plt.show()"
   ]
  },
  {
   "cell_type": "markdown",
   "id": "46557740",
   "metadata": {
    "papermill": {
     "duration": 0.157279,
     "end_time": "2025-08-22T20:36:53.639237",
     "exception": false,
     "start_time": "2025-08-22T20:36:53.481958",
     "status": "completed"
    },
    "tags": []
   },
   "source": [
    "# 6. Confusion Matrix"
   ]
  },
  {
   "cell_type": "code",
   "execution_count": 8,
   "id": "500ab025",
   "metadata": {
    "execution": {
     "iopub.execute_input": "2025-08-22T20:36:53.957304Z",
     "iopub.status.busy": "2025-08-22T20:36:53.957010Z",
     "iopub.status.idle": "2025-08-22T20:36:54.330718Z",
     "shell.execute_reply": "2025-08-22T20:36:54.329776Z"
    },
    "papermill": {
     "duration": 0.534084,
     "end_time": "2025-08-22T20:36:54.331940",
     "exception": false,
     "start_time": "2025-08-22T20:36:53.797856",
     "status": "completed"
    },
    "tags": []
   },
   "outputs": [
    {
     "data": {
      "image/png": "[encoded data removed]",
      "text/plain": [
       "<Figure size 640x480 with 2 Axes>"
      ]
     },
     "metadata": {},
     "output_type": "display_data"
    },
    {
     "name": "stdout",
     "output_type": "stream",
     "text": [
      "                 precision    recall  f1-score   support\n",
      "\n",
      "     cercospora       0.99      0.99      0.99     34720\n",
      "        healthy       0.99      0.99      0.99     34482\n",
      "mites_and_trips       0.99      0.99      0.99     32019\n",
      "    nutritional       0.98      0.98      0.98     22717\n",
      " powdery mildew       0.99      0.99      0.99     22717\n",
      "\n",
      "       accuracy                           0.99    146655\n",
      "      macro avg       0.99      0.99      0.99    146655\n",
      "   weighted avg       0.99      0.99      0.99    146655\n",
      "\n"
     ]
    }
   ],
   "source": [
    "cm = confusion_matrix(y_true, y_pred)\n",
    "sns.heatmap(cm, annot=True, fmt='d', xticklabels=class_names, yticklabels=class_names)\n",
    "plt.title(\"Confusion Matrix\")\n",
    "plt.xlabel(\"Predicted\")\n",
    "plt.ylabel(\"True\")\n",
    "plt.show()\n",
    "\n",
    "print(classification_report(y_true, y_pred, target_names=class_names))"
   ]
  }
 ],
 "metadata": {
  "kaggle": {
   "accelerator": "nvidiaTeslaT4",
   "dataSources": [
    {
     "datasetId": 8118772,
     "sourceId": 12836968,
     "sourceType": "datasetVersion"
    }
   ],
   "dockerImageVersionId": 31090,
   "isGpuEnabled": true,
   "isInternetEnabled": true,
   "language": "python",
   "sourceType": "notebook"
  },
  "kernelspec": {
   "display_name": "Python 3",
   "language": "python",
   "name": "python3"
  },
  "language_info": {
   "codemirror_mode": {
    "name": "ipython",
    "version": 3
   },
   "file_extension": ".py",
   "mimetype": "text/x-python",
   "name": "python",
   "nbconvert_exporter": "python",
   "pygments_lexer": "ipython3",
   "version": "3.11.13"
  },
  "papermill": {
   "default_parameters": {},
   "duration": 749.702563,
   "end_time": "2025-08-22T20:36:58.142468",
   "environment_variables": {},
   "exception": null,
   "input_path": "__notebook__.ipynb",
   "output_path": "__notebook__.ipynb",
   "parameters": {},
   "start_time": "2025-08-22T20:24:28.439905",
   "version": "2.6.0"
  },
  "widgets": {
   "application/vnd.jupyter.widget-state+json": {
    "state": {
     "1a60b547592c4877aa20a23015b7bd41": {
      "model_module": "@jupyter-widgets/base",
      "model_module_version": "2.0.0",
      "model_name": "LayoutModel",
      "state": {
       "_model_module": "@jupyter-widgets/base",
       "_model_module_version": "2.0.0",
       "_model_name": "LayoutModel",
       "_view_count": null,
       "_view_module": "@jupyter-widgets/base",
       "_view_module_version": "2.0.0",
       "_view_name": "LayoutView",
       "align_content": null,
       "align_items": null,
       "align_self": null,
       "border_bottom": null,
       "border_left": null,
       "border_right": null,
       "border_top": null,
       "bottom": null,
       "display": null,
       "flex": null,
       "flex_flow": null,
       "grid_area": null,
       "grid_auto_columns": null,
       "grid_auto_flow": null,
       "grid_auto_rows": null,
       "grid_column": null,
       "grid_gap": null,
       "grid_row": null,
       "grid_template_areas": null,
       "grid_template_columns": null,
       "grid_template_rows": null,
       "height": null,
       "justify_content": null,
       "justify_items": null,
       "left": null,
       "margin": null,
       "max_height": null,
       "max_width": null,
       "min_height": null,
       "min_width": null,
       "object_fit": null,
       "object_position": null,
       "order": null,
       "overflow": null,
       "padding": null,
       "right": null,
       "top": null,
       "visibility": null,
       "width": null
      }
     },
     "1f3d64ecff944ffe9bc7ca0bd96fe785": {
      "model_module": "@jupyter-widgets/base",
      "model_module_version": "2.0.0",
      "model_name": "LayoutModel",
      "state": {
       "_model_module": "@jupyter-widgets/base",
       "_model_module_version": "2.0.0",
       "_model_name": "LayoutModel",
       "_view_count": null,
       "_view_module": "@jupyter-widgets/base",
       "_view_module_version": "2.0.0",
       "_view_name": "LayoutView",
       "align_content": null,
       "align_items": null,
       "align_self": null,
       "border_bottom": null,
       "border_left": null,
       "border_right": null,
       "border_top": null,
       "bottom": null,
       "display": null,
       "flex": null,
       "flex_flow": null,
       "grid_area": null,
       "grid_auto_columns": null,
       "grid_auto_flow": null,
       "grid_auto_rows": null,
       "grid_column": null,
       "grid_gap": null,
       "grid_row": null,
       "grid_template_areas": null,
       "grid_template_columns": null,
       "grid_template_rows": null,
       "height": null,
       "justify_content": null,
       "justify_items": null,
       "left": null,
       "margin": null,
       "max_height": null,
       "max_width": null,
       "min_height": null,
       "min_width": null,
       "object_fit": null,
       "object_position": null,
       "order": null,
       "overflow": null,
       "padding": null,
       "right": null,
       "top": null,
       "visibility": null,
       "width": null
      }
     },
     "2aba07b8ec8c4559a5fcfe44e63b8c9b": {
      "model_module": "@jupyter-widgets/controls",
      "model_module_version": "2.0.0",
      "model_name": "FloatProgressModel",
      "state": {
       "_dom_classes": [],
       "_model_module": "@jupyter-widgets/controls",
       "_model_module_version": "2.0.0",
       "_model_name": "FloatProgressModel",
       "_view_count": null,
       "_view_module": "@jupyter-widgets/controls",
       "_view_module_version": "2.0.0",
       "_view_name": "ProgressView",
       "bar_style": "success",
       "description": "",
       "description_allow_html": false,
       "layout": "IPY_MODEL_b9060ef1c31c44da8b32bcd0174f7597",
       "max": 114374272,
       "min": 0,
       "orientation": "horizontal",
       "style": "IPY_MODEL_ead5af271dbd444cbdaf319624a49386",
       "tabbable": null,
       "tooltip": null,
       "value": 114374272
      }
     },
     "71c9b09c8a2b4654a35c1938503dac0d": {
      "model_module": "@jupyter-widgets/controls",
      "model_module_version": "2.0.0",
      "model_name": "HTMLModel",
      "state": {
       "_dom_classes": [],
       "_model_module": "@jupyter-widgets/controls",
       "_model_module_version": "2.0.0",
       "_model_name": "HTMLModel",
       "_view_count": null,
       "_view_module": "@jupyter-widgets/controls",
       "_view_module_version": "2.0.0",
       "_view_name": "HTMLView",
       "description": "",
       "description_allow_html": false,
       "layout": "IPY_MODEL_7e5eedb11f4d4fbabe23209b9e385635",
       "placeholder": "​",
       "style": "IPY_MODEL_bf871fe938e44fbfa7d37c5184724131",
       "tabbable": null,
       "tooltip": null,
       "value": "model.safetensors: 100%"
      }
     },
     "7818f2ffbdbf485695b5c51aa2a19cad": {
      "model_module": "@jupyter-widgets/controls",
      "model_module_version": "2.0.0",
      "model_name": "HTMLModel",
      "state": {
       "_dom_classes": [],
       "_model_module": "@jupyter-widgets/controls",
       "_model_module_version": "2.0.0",
       "_model_name": "HTMLModel",
       "_view_count": null,
       "_view_module": "@jupyter-widgets/controls",
       "_view_module_version": "2.0.0",
       "_view_name": "HTMLView",
       "description": "",
       "description_allow_html": false,
       "layout": "IPY_MODEL_1f3d64ecff944ffe9bc7ca0bd96fe785",
       "placeholder": "​",
       "style": "IPY_MODEL_bc9ef2774a6749daa7289852e0dd5764",
       "tabbable": null,
       "tooltip": null,
       "value": " 114M/114M [00:00&lt;00:00, 225MB/s]"
      }
     },
     "7e5eedb11f4d4fbabe23209b9e385635": {
      "model_module": "@jupyter-widgets/base",
      "model_module_version": "2.0.0",
      "model_name": "LayoutModel",
      "state": {
       "_model_module": "@jupyter-widgets/base",
       "_model_module_version": "2.0.0",
       "_model_name": "LayoutModel",
       "_view_count": null,
       "_view_module": "@jupyter-widgets/base",
       "_view_module_version": "2.0.0",
       "_view_name": "LayoutView",
       "align_content": null,
       "align_items": null,
       "align_self": null,
       "border_bottom": null,
       "border_left": null,
       "border_right": null,
       "border_top": null,
       "bottom": null,
       "display": null,
       "flex": null,
       "flex_flow": null,
       "grid_area": null,
       "grid_auto_columns": null,
       "grid_auto_flow": null,
       "grid_auto_rows": null,
       "grid_column": null,
       "grid_gap": null,
       "grid_row": null,
       "grid_template_areas": null,
       "grid_template_columns": null,
       "grid_template_rows": null,
       "height": null,
       "justify_content": null,
       "justify_items": null,
       "left": null,
       "margin": null,
       "max_height": null,
       "max_width": null,
       "min_height": null,
       "min_width": null,
       "object_fit": null,
       "object_position": null,
       "order": null,
       "overflow": null,
       "padding": null,
       "right": null,
       "top": null,
       "visibility": null,
       "width": null
      }
     },
     "b9060ef1c31c44da8b32bcd0174f7597": {
      "model_module": "@jupyter-widgets/base",
      "model_module_version": "2.0.0",
      "model_name": "LayoutModel",
      "state": {
       "_model_module": "@jupyter-widgets/base",
       "_model_module_version": "2.0.0",
       "_model_name": "LayoutModel",
       "_view_count": null,
       "_view_module": "@jupyter-widgets/base",
       "_view_module_version": "2.0.0",
       "_view_name": "LayoutView",
       "align_content": null,
       "align_items": null,
       "align_self": null,
       "border_bottom": null,
       "border_left": null,
       "border_right": null,
       "border_top": null,
       "bottom": null,
       "display": null,
       "flex": null,
       "flex_flow": null,
       "grid_area": null,
       "grid_auto_columns": null,
       "grid_auto_flow": null,
       "grid_auto_rows": null,
       "grid_column": null,
       "grid_gap": null,
       "grid_row": null,
       "grid_template_areas": null,
       "grid_template_columns": null,
       "grid_template_rows": null,
       "height": null,
       "justify_content": null,
       "justify_items": null,
       "left": null,
       "margin": null,
       "max_height": null,
       "max_width": null,
       "min_height": null,
       "min_width": null,
       "object_fit": null,
       "object_position": null,
       "order": null,
       "overflow": null,
       "padding": null,
       "right": null,
       "top": null,
       "visibility": null,
       "width": null
      }
     },
     "bc9ef2774a6749daa7289852e0dd5764": {
      "model_module": "@jupyter-widgets/controls",
      "model_module_version": "2.0.0",
      "model_name": "HTMLStyleModel",
      "state": {
       "_model_module": "@jupyter-widgets/controls",
       "_model_module_version": "2.0.0",
       "_model_name": "HTMLStyleModel",
       "_view_count": null,
       "_view_module": "@jupyter-widgets/base",
       "_view_module_version": "2.0.0",
       "_view_name": "StyleView",
       "background": null,
       "description_width": "",
       "font_size": null,
       "text_color": null
      }
     },
     "bf871fe938e44fbfa7d37c5184724131": {
      "model_module": "@jupyter-widgets/controls",
      "model_module_version": "2.0.0",
      "model_name": "HTMLStyleModel",
      "state": {
       "_model_module": "@jupyter-widgets/controls",
       "_model_module_version": "2.0.0",
       "_model_name": "HTMLStyleModel",
       "_view_count": null,
       "_view_module": "@jupyter-widgets/base",
       "_view_module_version": "2.0.0",
       "_view_name": "StyleView",
       "background": null,
       "description_width": "",
       "font_size": null,
       "text_color": null
      }
     },
     "cd2f1c7aad3f4f4a8b5c5779366f0406": {
      "model_module": "@jupyter-widgets/controls",
      "model_module_version": "2.0.0",
      "model_name": "HBoxModel",
      "state": {
       "_dom_classes": [],
       "_model_module": "@jupyter-widgets/controls",
       "_model_module_version": "2.0.0",
       "_model_name": "HBoxModel",
       "_view_count": null,
       "_view_module": "@jupyter-widgets/controls",
       "_view_module_version": "2.0.0",
       "_view_name": "HBoxView",
       "box_style": "",
       "children": [
        "IPY_MODEL_71c9b09c8a2b4654a35c1938503dac0d",
        "IPY_MODEL_2aba07b8ec8c4559a5fcfe44e63b8c9b",
        "IPY_MODEL_7818f2ffbdbf485695b5c51aa2a19cad"
       ],
       "layout": "IPY_MODEL_1a60b547592c4877aa20a23015b7bd41",
       "tabbable": null,
       "tooltip": null
      }
     },
     "ead5af271dbd444cbdaf319624a49386": {
      "model_module": "@jupyter-widgets/controls",
      "model_module_version": "2.0.0",
      "model_name": "ProgressStyleModel",
      "state": {
       "_model_module": "@jupyter-widgets/controls",
       "_model_module_version": "2.0.0",
       "_model_name": "ProgressStyleModel",
       "_view_count": null,
       "_view_module": "@jupyter-widgets/base",
       "_view_module_version": "2.0.0",
       "_view_name": "StyleView",
       "bar_color": null,
       "description_width": ""
      }
     }
    },
    "version_major": 2,
    "version_minor": 0
   }
  }
 },
 "nbformat": 4,
 "nbformat_minor": 5
}
