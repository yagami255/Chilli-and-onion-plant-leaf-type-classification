{
 "cells": [
  {
   "cell_type": "markdown",
   "id": "e6ed07b9",
   "metadata": {
    "papermill": {
     "duration": 0.002833,
     "end_time": "2025-08-22T21:41:19.235938",
     "exception": false,
     "start_time": "2025-08-22T21:41:19.233105",
     "status": "completed"
    },
    "tags": []
   },
   "source": [
    "# Inception"
   ]
  },
  {
   "cell_type": "code",
   "execution_count": 1,
   "id": "3cfc6d86",
   "metadata": {
    "_cell_guid": "b1076dfc-b9ad-4769-8c92-a6c4dae69d19",
    "_uuid": "8f2839f25d086af736a60e9eeb907d3b93b6e0e5",
    "execution": {
     "iopub.execute_input": "2025-08-22T21:41:19.241780Z",
     "iopub.status.busy": "2025-08-22T21:41:19.241550Z",
     "iopub.status.idle": "2025-08-22T21:41:30.427186Z",
     "shell.execute_reply": "2025-08-22T21:41:30.426273Z"
    },
    "papermill": {
     "duration": 11.190567,
     "end_time": "2025-08-22T21:41:30.429224",
     "exception": false,
     "start_time": "2025-08-22T21:41:19.238657",
     "status": "completed"
    },
    "tags": []
   },
   "outputs": [],
   "source": [
    "import os, sys, math, time, json, random\n",
    "from pathlib import Path\n",
    "import numpy as np\n",
    "import torch\n",
    "import torch.nn as nn\n",
    "import torch.optim as optim\n",
    "from torch.utils.data import Dataset, DataLoader, random_split\n",
    "from PIL import Image, ImageOps, ImageEnhance\n",
    "from torchvision import datasets, models\n",
    "from sklearn.metrics import classification_report, confusion_matrix, precision_score, recall_score, f1_score\n",
    "from tqdm import tqdm\n",
    "from torch.cuda.amp import autocast, GradScaler\n",
    "import matplotlib.pyplot as plt\n",
    "import os\n",
    "from PIL import Image\n",
    "from torch.utils.data import DataLoader\n",
    "from torchvision.datasets import ImageFolder\n",
    "import torchvision.transforms as transforms\n",
    "from torch.optim.lr_scheduler import ReduceLROnPlateau\n",
    "import seaborn as sns"
   ]
  },
  {
   "cell_type": "markdown",
   "id": "a6a081e1",
   "metadata": {
    "papermill": {
     "duration": 0.002578,
     "end_time": "2025-08-22T21:41:30.437177",
     "exception": false,
     "start_time": "2025-08-22T21:41:30.434599",
     "status": "completed"
    },
    "tags": []
   },
   "source": [
    "# 1. Data Augmentation and Split"
   ]
  },
  {
   "cell_type": "code",
   "execution_count": 2,
   "id": "cd6470e3",
   "metadata": {
    "execution": {
     "iopub.execute_input": "2025-08-22T21:41:30.443505Z",
     "iopub.status.busy": "2025-08-22T21:41:30.443173Z",
     "iopub.status.idle": "2025-08-22T21:41:30.525474Z",
     "shell.execute_reply": "2025-08-22T21:41:30.524706Z"
    },
    "papermill": {
     "duration": 0.08634,
     "end_time": "2025-08-22T21:41:30.526558",
     "exception": false,
     "start_time": "2025-08-22T21:41:30.440218",
     "status": "completed"
    },
    "tags": []
   },
   "outputs": [
    {
     "name": "stdout",
     "output_type": "stream",
     "text": [
      "Using device: cuda\n"
     ]
    }
   ],
   "source": [
    "batch_size = 32\n",
    "img_size = 299\n",
    "epochs = 20\n",
    "lr = 1e-4\n",
    "weight_decay = 1e-4\n",
    "num_workers = 2\n",
    "\n",
    "device = torch.device(\"cuda\" if torch.cuda.is_available() else \"cpu\")\n",
    "print(\"Using device:\", device)"
   ]
  },
  {
   "cell_type": "code",
   "execution_count": 3,
   "id": "838a397b",
   "metadata": {
    "execution": {
     "iopub.execute_input": "2025-08-22T21:41:30.532369Z",
     "iopub.status.busy": "2025-08-22T21:41:30.532137Z",
     "iopub.status.idle": "2025-08-22T21:41:46.825489Z",
     "shell.execute_reply": "2025-08-22T21:41:46.824556Z"
    },
    "papermill": {
     "duration": 16.297633,
     "end_time": "2025-08-22T21:41:46.826750",
     "exception": false,
     "start_time": "2025-08-22T21:41:30.529117",
     "status": "completed"
    },
    "tags": []
   },
   "outputs": [
    {
     "name": "stdout",
     "output_type": "stream",
     "text": [
      "Classes: ['cercospora', 'healthy', 'mites_and_trips', 'nutritional', 'powdery mildew']\n"
     ]
    }
   ],
   "source": [
    "data_transforms = {\n",
    "    \"train\": transforms.Compose([\n",
    "        transforms.Resize((299, 299)),\n",
    "        transforms.ToTensor(),\n",
    "        transforms.Normalize([0.485, 0.456, 0.406],\n",
    "                             [0.229, 0.224, 0.225])\n",
    "    ]),\n",
    "    \"val\": transforms.Compose([\n",
    "        transforms.Resize((299, 299)),\n",
    "        transforms.ToTensor(),\n",
    "        transforms.Normalize([0.485, 0.456, 0.406],\n",
    "                             [0.229, 0.224, 0.225])\n",
    "    ]),\n",
    "    \"test\": transforms.Compose([\n",
    "        transforms.Resize((299, 299)),\n",
    "        transforms.ToTensor(),\n",
    "        transforms.Normalize([0.485, 0.456, 0.406],\n",
    "                             [0.229, 0.224, 0.225])\n",
    "    ])\n",
    "}\n",
    "\n",
    "data_dir = \"/kaggle/input/chilli-dataset/Mehedi2\"\n",
    "\n",
    "image_datasets = {\n",
    "    x: datasets.ImageFolder(os.path.join(data_dir, x), transform=data_transforms[x])\n",
    "    for x in [\"train\", \"val\", \"test\"]\n",
    "}\n",
    "\n",
    "dataloaders = {\n",
    "    x: DataLoader(image_datasets[x], batch_size=32, shuffle=True, num_workers=2, drop_last=True)\n",
    "    for x in [\"train\", \"val\", \"test\"]\n",
    "}\n",
    "\n",
    "class_names = image_datasets[\"train\"].classes\n",
    "print(\"Classes:\", class_names)"
   ]
  },
  {
   "cell_type": "markdown",
   "id": "d2fc12bc",
   "metadata": {
    "papermill": {
     "duration": 0.00225,
     "end_time": "2025-08-22T21:41:46.831891",
     "exception": false,
     "start_time": "2025-08-22T21:41:46.829641",
     "status": "completed"
    },
    "tags": []
   },
   "source": [
    "# 2. Early Stopping"
   ]
  },
  {
   "cell_type": "code",
   "execution_count": 4,
   "id": "152245c2",
   "metadata": {
    "execution": {
     "iopub.execute_input": "2025-08-22T21:41:46.837861Z",
     "iopub.status.busy": "2025-08-22T21:41:46.837301Z",
     "iopub.status.idle": "2025-08-22T21:41:46.842322Z",
     "shell.execute_reply": "2025-08-22T21:41:46.841608Z"
    },
    "papermill": {
     "duration": 0.008997,
     "end_time": "2025-08-22T21:41:46.843357",
     "exception": false,
     "start_time": "2025-08-22T21:41:46.834360",
     "status": "completed"
    },
    "tags": []
   },
   "outputs": [],
   "source": [
    "class EarlyStopping:\n",
    "    def __init__(self, patience=3, min_delta=0.0):\n",
    "        self.patience = patience\n",
    "        self.min_delta = min_delta\n",
    "        self.counter = 0\n",
    "        self.best = float('inf')\n",
    "        self.early_stop = False\n",
    "    def step(self, val_loss):\n",
    "        if val_loss < self.best - self.min_delta:\n",
    "            self.best = val_loss\n",
    "            self.counter = 0\n",
    "        else:\n",
    "            self.counter += 1\n",
    "            if self.counter >= self.patience:\n",
    "                self.early_stop = True\n",
    "        return self.early_stop\n",
    "\n",
    "early_stopping = EarlyStopping(patience=3, min_delta=1e-4)"
   ]
  },
  {
   "cell_type": "markdown",
   "id": "64b90e40",
   "metadata": {
    "papermill": {
     "duration": 0.002153,
     "end_time": "2025-08-22T21:41:46.847852",
     "exception": false,
     "start_time": "2025-08-22T21:41:46.845699",
     "status": "completed"
    },
    "tags": []
   },
   "source": [
    "# 3. Loading Model"
   ]
  },
  {
   "cell_type": "code",
   "execution_count": 5,
   "id": "b24d231c",
   "metadata": {
    "execution": {
     "iopub.execute_input": "2025-08-22T21:41:46.853222Z",
     "iopub.status.busy": "2025-08-22T21:41:46.852986Z",
     "iopub.status.idle": "2025-08-22T21:41:48.096560Z",
     "shell.execute_reply": "2025-08-22T21:41:48.095682Z"
    },
    "papermill": {
     "duration": 1.247651,
     "end_time": "2025-08-22T21:41:48.097847",
     "exception": false,
     "start_time": "2025-08-22T21:41:46.850196",
     "status": "completed"
    },
    "tags": []
   },
   "outputs": [
    {
     "name": "stderr",
     "output_type": "stream",
     "text": [
      "Downloading: \"https://download.pytorch.org/models/inception_v3_google-0cc3c7bd.pth\" to /root/.cache/torch/hub/checkpoints/inception_v3_google-0cc3c7bd.pth\n",
      "100%|██████████| 104M/104M [00:00<00:00, 210MB/s]\n",
      "/tmp/ipykernel_19/10218459.py:18: FutureWarning: `torch.cuda.amp.GradScaler(args...)` is deprecated. Please use `torch.amp.GradScaler('cuda', args...)` instead.\n",
      "  scaler = GradScaler(enabled=(device.type == \"cuda\"))\n"
     ]
    }
   ],
   "source": [
    "def get_model(num_classes):\n",
    "    model = models.inception_v3(weights=models.Inception_V3_Weights.DEFAULT)\n",
    "    model.AuxLogits.fc = nn.Sequential(\n",
    "        nn.Dropout(p=0.6),\n",
    "        nn.Linear(model.AuxLogits.fc.in_features, num_classes)\n",
    "    )\n",
    "    model.fc = nn.Sequential(\n",
    "        nn.Dropout(p=0.6),\n",
    "        nn.Linear(model.fc.in_features, num_classes)\n",
    "    )\n",
    "    return model.to(device)\n",
    "\n",
    "num_classes = len(class_names)\n",
    "model = get_model(num_classes)\n",
    "criterion = nn.CrossEntropyLoss()\n",
    "optimizer = optim.AdamW(model.parameters(), lr=lr, weight_decay=weight_decay)\n",
    "scheduler = ReduceLROnPlateau(optimizer, mode='min', factor=0.5, patience=3)\n",
    "scaler = GradScaler(enabled=(device.type == \"cuda\"))"
   ]
  },
  {
   "cell_type": "markdown",
   "id": "353a40a1",
   "metadata": {
    "papermill": {
     "duration": 0.00284,
     "end_time": "2025-08-22T21:41:48.103803",
     "exception": false,
     "start_time": "2025-08-22T21:41:48.100963",
     "status": "completed"
    },
    "tags": []
   },
   "source": [
    "# 4. Training and saving the model"
   ]
  },
  {
   "cell_type": "code",
   "execution_count": 6,
   "id": "36767bb7",
   "metadata": {
    "execution": {
     "iopub.execute_input": "2025-08-22T21:41:48.110974Z",
     "iopub.status.busy": "2025-08-22T21:41:48.110736Z",
     "iopub.status.idle": "2025-08-22T21:49:45.234427Z",
     "shell.execute_reply": "2025-08-22T21:49:45.233405Z"
    },
    "papermill": {
     "duration": 477.129312,
     "end_time": "2025-08-22T21:49:45.236162",
     "exception": false,
     "start_time": "2025-08-22T21:41:48.106850",
     "status": "completed"
    },
    "tags": []
   },
   "outputs": [
    {
     "name": "stdout",
     "output_type": "stream",
     "text": [
      "Epoch 1/20\n"
     ]
    },
    {
     "name": "stderr",
     "output_type": "stream",
     "text": [
      "100%|██████████| 278/278 [01:06<00:00,  4.15it/s]\n",
      "100%|██████████| 68/68 [00:11<00:00,  5.99it/s]\n"
     ]
    },
    {
     "name": "stdout",
     "output_type": "stream",
     "text": [
      "  train_loss=0.4643 | val_loss=0.0424 | val_f1=0.9062 | lr=1.00e-04\n",
      " New best F1: 0.9062 — saved to inception_v3_best.pth\n",
      "Epoch 2/20\n"
     ]
    },
    {
     "name": "stderr",
     "output_type": "stream",
     "text": [
      "100%|██████████| 278/278 [01:08<00:00,  4.05it/s]\n",
      "100%|██████████| 68/68 [00:10<00:00,  6.24it/s]\n"
     ]
    },
    {
     "name": "stdout",
     "output_type": "stream",
     "text": [
      "  train_loss=0.0719 | val_loss=0.0161 | val_f1=0.9470 | lr=1.00e-04\n",
      " New best F1: 0.9470 — saved to inception_v3_best.pth\n",
      "Epoch 3/20\n"
     ]
    },
    {
     "name": "stderr",
     "output_type": "stream",
     "text": [
      "100%|██████████| 278/278 [01:08<00:00,  4.07it/s]\n",
      "100%|██████████| 68/68 [00:10<00:00,  6.26it/s]\n"
     ]
    },
    {
     "name": "stdout",
     "output_type": "stream",
     "text": [
      "  train_loss=0.0311 | val_loss=0.0100 | val_f1=0.9629 | lr=1.00e-04\n",
      " New best F1: 0.9629 — saved to inception_v3_best.pth\n",
      "Epoch 4/20\n"
     ]
    },
    {
     "name": "stderr",
     "output_type": "stream",
     "text": [
      "100%|██████████| 278/278 [01:08<00:00,  4.06it/s]\n",
      "100%|██████████| 68/68 [00:10<00:00,  6.26it/s]\n"
     ]
    },
    {
     "name": "stdout",
     "output_type": "stream",
     "text": [
      "  train_loss=0.0270 | val_loss=0.0191 | val_f1=0.9708 | lr=1.00e-04\n",
      " New best F1: 0.9708 — saved to inception_v3_best.pth\n",
      "Epoch 5/20\n"
     ]
    },
    {
     "name": "stderr",
     "output_type": "stream",
     "text": [
      "100%|██████████| 278/278 [01:08<00:00,  4.06it/s]\n",
      "100%|██████████| 68/68 [00:10<00:00,  6.24it/s]\n"
     ]
    },
    {
     "name": "stdout",
     "output_type": "stream",
     "text": [
      "  train_loss=0.0338 | val_loss=0.0436 | val_f1=0.9748 | lr=1.00e-04\n",
      " New best F1: 0.9748 — saved to inception_v3_best.pth\n",
      "Epoch 6/20\n"
     ]
    },
    {
     "name": "stderr",
     "output_type": "stream",
     "text": [
      "100%|██████████| 278/278 [01:08<00:00,  4.08it/s]\n",
      "100%|██████████| 68/68 [00:10<00:00,  6.23it/s]\n"
     ]
    },
    {
     "name": "stdout",
     "output_type": "stream",
     "text": [
      "  train_loss=0.0376 | val_loss=0.0144 | val_f1=0.9777 | lr=1.00e-04\n",
      " New best F1: 0.9777 — saved to inception_v3_best.pth\n",
      " Early stopping triggered.\n"
     ]
    }
   ],
   "source": [
    "train_losses, val_losses, val_f1s = [], [], []\n",
    "best_f1 = -1.0\n",
    "best_path = \"inception_v3_best.pth\"\n",
    "y_true, y_pred = [], []\n",
    "\n",
    "def run_epoch(loader, model, train=True):\n",
    "    if train:\n",
    "        model.train()\n",
    "    else:\n",
    "        model.eval()\n",
    "\n",
    "    running_loss = 0.0\n",
    "\n",
    "    pbar = tqdm(loader, total=len(loader))\n",
    "    for images, labels in pbar:\n",
    "        images = images.to(device, non_blocking=True).float()\n",
    "        labels = torch.as_tensor(labels, device=device)\n",
    "\n",
    "        if train:\n",
    "            optimizer.zero_grad(set_to_none=True)\n",
    "            with torch.amp.autocast('cuda'):\n",
    "                outputs, aux_outputs = model(images)\n",
    "                loss1 = criterion(outputs, labels)\n",
    "                loss2 = criterion(aux_outputs, labels)\n",
    "                loss = loss1 + 0.4 * loss2\n",
    "\n",
    "            scaler.scale(loss).backward()\n",
    "            scaler.step(optimizer)\n",
    "            scaler.update()\n",
    "        else:\n",
    "            with torch.no_grad():\n",
    "                outputs = model(images)\n",
    "                loss = criterion(outputs, labels)\n",
    "\n",
    "        running_loss += loss.item() * images.size(0)\n",
    "        preds = outputs.argmax(1).detach().cpu().numpy()\n",
    "        y_pred.extend(preds.tolist())\n",
    "        y_true.extend(labels.detach().cpu().numpy().tolist())\n",
    "\n",
    "    epoch_loss = running_loss / len(loader.dataset)\n",
    "    report = classification_report(y_true, y_pred, output_dict=True, zero_division=0)\n",
    "    f1 = report['weighted avg']['f1-score']\n",
    "    return epoch_loss, f1, report\n",
    "\n",
    "for epoch in range(1, epochs + 1):\n",
    "    print(f\"Epoch {epoch}/{epochs}\")\n",
    "\n",
    "    tr_loss, tr_f1, _ = run_epoch(dataloaders[\"train\"], model, train=True)\n",
    "    with torch.no_grad():\n",
    "        val_loss, val_f1, val_report = run_epoch(dataloaders[\"val\"], model, train=False)\n",
    "\n",
    "    train_losses.append(tr_loss)\n",
    "    val_losses.append(val_loss)\n",
    "    val_f1s.append(val_f1)\n",
    "\n",
    "    scheduler.step(val_loss)\n",
    "\n",
    "    print(f\"  train_loss={tr_loss:.4f} | val_loss={val_loss:.4f} | val_f1={val_f1:.4f} | lr={optimizer.param_groups[0]['lr']:.2e}\")\n",
    "\n",
    "    if val_f1 > best_f1:\n",
    "        best_f1 = val_f1\n",
    "        torch.save(model.state_dict(), best_path)\n",
    "        print(f\" New best F1: {best_f1:.4f} — saved to {best_path}\")\n",
    "\n",
    "    if early_stopping.step(val_loss):\n",
    "        print(\" Early stopping triggered.\")\n",
    "        break"
   ]
  },
  {
   "cell_type": "markdown",
   "id": "94c05620",
   "metadata": {
    "papermill": {
     "duration": 0.081863,
     "end_time": "2025-08-22T21:49:45.401082",
     "exception": false,
     "start_time": "2025-08-22T21:49:45.319219",
     "status": "completed"
    },
    "tags": []
   },
   "source": [
    "# 5. Plotting Loss Curve"
   ]
  },
  {
   "cell_type": "code",
   "execution_count": 7,
   "id": "b6cabd50",
   "metadata": {
    "execution": {
     "iopub.execute_input": "2025-08-22T21:49:45.566542Z",
     "iopub.status.busy": "2025-08-22T21:49:45.565806Z",
     "iopub.status.idle": "2025-08-22T21:49:57.224934Z",
     "shell.execute_reply": "2025-08-22T21:49:57.224066Z"
    },
    "papermill": {
     "duration": 11.744327,
     "end_time": "2025-08-22T21:49:57.226449",
     "exception": false,
     "start_time": "2025-08-22T21:49:45.482122",
     "status": "completed"
    },
    "tags": []
   },
   "outputs": [
    {
     "name": "stderr",
     "output_type": "stream",
     "text": [
      "100%|██████████| 69/69 [00:11<00:00,  6.18it/s]\n"
     ]
    },
    {
     "name": "stdout",
     "output_type": "stream",
     "text": [
      "Test F1: 0.9783323225862043\n",
      "{\n",
      "  \"0\": {\n",
      "    \"precision\": 0.978690833384361,\n",
      "    \"recall\": 0.9800711307333824,\n",
      "    \"f1-score\": 0.979380495725972,\n",
      "    \"support\": 16308\n",
      "  },\n",
      "  \"1\": {\n",
      "    \"precision\": 0.9790278805822847,\n",
      "    \"recall\": 0.9804793674326662,\n",
      "    \"f1-score\": 0.9797530864197531,\n",
      "    \"support\": 16188\n",
      "  },\n",
      "  \"2\": {\n",
      "    \"precision\": 0.9773488808470714,\n",
      "    \"recall\": 0.9772833880587013,\n",
      "    \"f1-score\": 0.9773161333556709,\n",
      "    \"support\": 14923\n",
      "  },\n",
      "  \"3\": {\n",
      "    \"precision\": 0.9684867985237059,\n",
      "    \"recall\": 0.9645617342130066,\n",
      "    \"f1-score\": 0.9665202814374086,\n",
      "    \"support\": 10610\n",
      "  },\n",
      "  \"4\": {\n",
      "    \"precision\": 0.9879336349924586,\n",
      "    \"recall\": 0.9876543209876543,\n",
      "    \"f1-score\": 0.9877939582449691,\n",
      "    \"support\": 10611\n",
      "  },\n",
      "  \"accuracy\": 0.9783362470862471,\n",
      "  \"macro avg\": {\n",
      "    \"precision\": 0.9782976056659762,\n",
      "    \"recall\": 0.9780099882850821,\n",
      "    \"f1-score\": 0.9781527910367547,\n",
      "    \"support\": 68640\n",
      "  },\n",
      "  \"weighted avg\": {\n",
      "    \"precision\": 0.9783301212677816,\n",
      "    \"recall\": 0.9783362470862471,\n",
      "    \"f1-score\": 0.9783323225862043,\n",
      "    \"support\": 68640\n",
      "  }\n",
      "}\n"
     ]
    },
    {
     "data": {
      "image/png": "[encoded data removed]",
      "text/plain": [
       "<Figure size 640x480 with 1 Axes>"
      ]
     },
     "metadata": {},
     "output_type": "display_data"
    }
   ],
   "source": [
    "if Path(best_path).exists():\n",
    "    model.load_state_dict(torch.load(best_path, map_location=device))\n",
    "\n",
    "with torch.no_grad():\n",
    "    test_loss, test_f1, test_report = run_epoch(dataloaders[\"test\"], model, train=False)\n",
    "\n",
    "print(\"Test F1:\", test_f1)\n",
    "print(json.dumps(test_report, indent=2))\n",
    "\n",
    "plt.plot(train_losses, label='Train Loss')\n",
    "plt.plot(val_losses, label='Validation Loss')\n",
    "plt.xlabel('Epoch')\n",
    "plt.ylabel('Loss')\n",
    "plt.legend()\n",
    "plt.title(\"Training and Validation Loss (Inception_v3)\")\n",
    "plt.show()"
   ]
  },
  {
   "cell_type": "markdown",
   "id": "2571c600",
   "metadata": {
    "papermill": {
     "duration": 0.141052,
     "end_time": "2025-08-22T21:49:57.459275",
     "exception": false,
     "start_time": "2025-08-22T21:49:57.318223",
     "status": "completed"
    },
    "tags": []
   },
   "source": [
    "# 6. Confusion Matrix"
   ]
  },
  {
   "cell_type": "code",
   "execution_count": 8,
   "id": "2fc6bfa0",
   "metadata": {
    "execution": {
     "iopub.execute_input": "2025-08-22T21:49:57.634941Z",
     "iopub.status.busy": "2025-08-22T21:49:57.634289Z",
     "iopub.status.idle": "2025-08-22T21:49:57.934759Z",
     "shell.execute_reply": "2025-08-22T21:49:57.933946Z"
    },
    "papermill": {
     "duration": 0.389891,
     "end_time": "2025-08-22T21:49:57.935837",
     "exception": false,
     "start_time": "2025-08-22T21:49:57.545946",
     "status": "completed"
    },
    "tags": []
   },
   "outputs": [
    {
     "data": {
      "image/png": "[encoded data removed]",
      "text/plain": [
       "<Figure size 640x480 with 2 Axes>"
      ]
     },
     "metadata": {},
     "output_type": "display_data"
    },
    {
     "name": "stdout",
     "output_type": "stream",
     "text": [
      "                 precision    recall  f1-score   support\n",
      "\n",
      "     cercospora       0.98      0.98      0.98     16308\n",
      "        healthy       0.98      0.98      0.98     16188\n",
      "mites_and_trips       0.98      0.98      0.98     14923\n",
      "    nutritional       0.97      0.96      0.97     10610\n",
      " powdery mildew       0.99      0.99      0.99     10611\n",
      "\n",
      "       accuracy                           0.98     68640\n",
      "      macro avg       0.98      0.98      0.98     68640\n",
      "   weighted avg       0.98      0.98      0.98     68640\n",
      "\n"
     ]
    }
   ],
   "source": [
    "cm = confusion_matrix(y_true, y_pred)\n",
    "sns.heatmap(cm, annot=True, fmt='d', xticklabels=class_names, yticklabels=class_names)\n",
    "plt.title(\"Confusion Matrix\")\n",
    "plt.xlabel(\"Predicted\")\n",
    "plt.ylabel(\"True\")\n",
    "plt.show()\n",
    "\n",
    "print(classification_report(y_true, y_pred, target_names=class_names))"
   ]
  }
 ],
 "metadata": {
  "kaggle": {
   "accelerator": "nvidiaTeslaT4",
   "dataSources": [
    {
     "datasetId": 8118772,
     "sourceId": 12836968,
     "sourceType": "datasetVersion"
    }
   ],
   "dockerImageVersionId": 31090,
   "isGpuEnabled": true,
   "isInternetEnabled": true,
   "language": "python",
   "sourceType": "notebook"
  },
  "kernelspec": {
   "display_name": "Python 3",
   "language": "python",
   "name": "python3"
  },
  "language_info": {
   "codemirror_mode": {
    "name": "ipython",
    "version": 3
   },
   "file_extension": ".py",
   "mimetype": "text/x-python",
   "name": "python",
   "nbconvert_exporter": "python",
   "pygments_lexer": "ipython3",
   "version": "3.11.13"
  },
  "papermill": {
   "default_parameters": {},
   "duration": 525.412769,
   "end_time": "2025-08-22T21:50:00.546771",
   "environment_variables": {},
   "exception": null,
   "input_path": "__notebook__.ipynb",
   "output_path": "__notebook__.ipynb",
   "parameters": {},
   "start_time": "2025-08-22T21:41:15.134002",
   "version": "2.6.0"
  }
 },
 "nbformat": 4,
 "nbformat_minor": 5
}
