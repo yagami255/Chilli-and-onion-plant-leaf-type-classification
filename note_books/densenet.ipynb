{
 "cells": [
  {
   "cell_type": "markdown",
   "id": "8a980337",
   "metadata": {
    "papermill": {
     "duration": 0.002976,
     "end_time": "2025-08-22T21:01:10.104821",
     "exception": false,
     "start_time": "2025-08-22T21:01:10.101845",
     "status": "completed"
    },
    "tags": []
   },
   "source": [
    "# Densenet"
   ]
  },
  {
   "cell_type": "code",
   "execution_count": 1,
   "id": "26f350b4",
   "metadata": {
    "_cell_guid": "b1076dfc-b9ad-4769-8c92-a6c4dae69d19",
    "_uuid": "8f2839f25d086af736a60e9eeb907d3b93b6e0e5",
    "execution": {
     "iopub.execute_input": "2025-08-22T21:01:10.110540Z",
     "iopub.status.busy": "2025-08-22T21:01:10.110288Z",
     "iopub.status.idle": "2025-08-22T21:01:22.239206Z",
     "shell.execute_reply": "2025-08-22T21:01:22.238525Z"
    },
    "papermill": {
     "duration": 12.133267,
     "end_time": "2025-08-22T21:01:22.240671",
     "exception": false,
     "start_time": "2025-08-22T21:01:10.107404",
     "status": "completed"
    },
    "tags": []
   },
   "outputs": [],
   "source": [
    "import os, sys, math, time, json, random\n",
    "from pathlib import Path\n",
    "import numpy as np\n",
    "import torch\n",
    "import torch.nn as nn\n",
    "import torch.optim as optim\n",
    "from torch.utils.data import Dataset, DataLoader, random_split\n",
    "from PIL import Image, ImageOps, ImageEnhance\n",
    "from torchvision import datasets, models\n",
    "from sklearn.metrics import classification_report, confusion_matrix, precision_score, recall_score, f1_score\n",
    "from tqdm import tqdm\n",
    "from torch.cuda.amp import autocast, GradScaler\n",
    "import matplotlib.pyplot as plt\n",
    "import os\n",
    "from PIL import Image\n",
    "from torch.utils.data import DataLoader\n",
    "from torchvision.datasets import ImageFolder\n",
    "import torchvision.transforms as transforms\n",
    "from torch.optim.lr_scheduler import ReduceLROnPlateau\n",
    "import seaborn as sns"
   ]
  },
  {
   "cell_type": "markdown",
   "id": "b037904a",
   "metadata": {
    "papermill": {
     "duration": 0.002155,
     "end_time": "2025-08-22T21:01:22.245418",
     "exception": false,
     "start_time": "2025-08-22T21:01:22.243263",
     "status": "completed"
    },
    "tags": []
   },
   "source": [
    "# 1. Data Augmentation and Split"
   ]
  },
  {
   "cell_type": "code",
   "execution_count": 2,
   "id": "bc32cb84",
   "metadata": {
    "execution": {
     "iopub.execute_input": "2025-08-22T21:01:22.251097Z",
     "iopub.status.busy": "2025-08-22T21:01:22.250582Z",
     "iopub.status.idle": "2025-08-22T21:01:22.349794Z",
     "shell.execute_reply": "2025-08-22T21:01:22.348964Z"
    },
    "papermill": {
     "duration": 0.103121,
     "end_time": "2025-08-22T21:01:22.350925",
     "exception": false,
     "start_time": "2025-08-22T21:01:22.247804",
     "status": "completed"
    },
    "tags": []
   },
   "outputs": [
    {
     "name": "stdout",
     "output_type": "stream",
     "text": [
      "Using device: cuda\n"
     ]
    }
   ],
   "source": [
    "batch_size = 32\n",
    "img_size = 224\n",
    "epochs = 20\n",
    "lr = 1e-4\n",
    "weight_decay = 1e-4\n",
    "num_workers = 2\n",
    "\n",
    "device = torch.device(\"cuda\" if torch.cuda.is_available() else \"cpu\")\n",
    "print(\"Using device:\", device)"
   ]
  },
  {
   "cell_type": "code",
   "execution_count": 3,
   "id": "4a3f8d48",
   "metadata": {
    "execution": {
     "iopub.execute_input": "2025-08-22T21:01:22.357118Z",
     "iopub.status.busy": "2025-08-22T21:01:22.356458Z",
     "iopub.status.idle": "2025-08-22T21:01:47.390425Z",
     "shell.execute_reply": "2025-08-22T21:01:47.389376Z"
    },
    "papermill": {
     "duration": 25.038395,
     "end_time": "2025-08-22T21:01:47.391891",
     "exception": false,
     "start_time": "2025-08-22T21:01:22.353496",
     "status": "completed"
    },
    "tags": []
   },
   "outputs": [
    {
     "name": "stdout",
     "output_type": "stream",
     "text": [
      "Classes: ['cercospora', 'healthy', 'mites_and_trips', 'nutritional', 'powdery mildew']\n"
     ]
    }
   ],
   "source": [
    "data_transforms = {\n",
    "    \"train\": transforms.Compose([\n",
    "        transforms.Resize((224, 224)),\n",
    "        transforms.ToTensor(),\n",
    "        transforms.Normalize([0.485, 0.456, 0.406],\n",
    "                             [0.229, 0.224, 0.225])\n",
    "    ]),\n",
    "    \"val\": transforms.Compose([\n",
    "        transforms.Resize((224, 224)),\n",
    "        transforms.ToTensor(),\n",
    "        transforms.Normalize([0.485, 0.456, 0.406],\n",
    "                             [0.229, 0.224, 0.225])\n",
    "    ]),\n",
    "    \"test\": transforms.Compose([\n",
    "        transforms.Resize((224, 224)),\n",
    "        transforms.ToTensor(),\n",
    "        transforms.Normalize([0.485, 0.456, 0.406],\n",
    "                             [0.229, 0.224, 0.225])\n",
    "    ])\n",
    "}\n",
    "\n",
    "data_dir = \"/kaggle/input/chilli-dataset/Mehedi2\"\n",
    "\n",
    "image_datasets = {\n",
    "    x: datasets.ImageFolder(os.path.join(data_dir, x), transform=data_transforms[x])\n",
    "    for x in [\"train\", \"val\", \"test\"]\n",
    "}\n",
    "\n",
    "dataloaders = {\n",
    "    x: DataLoader(image_datasets[x], batch_size=32, shuffle=True, num_workers=2)\n",
    "    for x in [\"train\", \"val\", \"test\"]\n",
    "}\n",
    "\n",
    "class_names = image_datasets[\"train\"].classes\n",
    "print(\"Classes:\", class_names)"
   ]
  },
  {
   "cell_type": "markdown",
   "id": "ecfa2ae6",
   "metadata": {
    "papermill": {
     "duration": 0.002476,
     "end_time": "2025-08-22T21:01:47.397357",
     "exception": false,
     "start_time": "2025-08-22T21:01:47.394881",
     "status": "completed"
    },
    "tags": []
   },
   "source": [
    "# 2. Early Stopping"
   ]
  },
  {
   "cell_type": "code",
   "execution_count": 4,
   "id": "2886393f",
   "metadata": {
    "execution": {
     "iopub.execute_input": "2025-08-22T21:01:47.403580Z",
     "iopub.status.busy": "2025-08-22T21:01:47.403048Z",
     "iopub.status.idle": "2025-08-22T21:01:47.408002Z",
     "shell.execute_reply": "2025-08-22T21:01:47.407454Z"
    },
    "papermill": {
     "duration": 0.009205,
     "end_time": "2025-08-22T21:01:47.409052",
     "exception": false,
     "start_time": "2025-08-22T21:01:47.399847",
     "status": "completed"
    },
    "tags": []
   },
   "outputs": [],
   "source": [
    "class EarlyStopping:\n",
    "    def __init__(self, patience=3, min_delta=0.0):\n",
    "        self.patience = patience\n",
    "        self.min_delta = min_delta\n",
    "        self.counter = 0\n",
    "        self.best = float('inf')\n",
    "        self.early_stop = False\n",
    "    def step(self, val_loss):\n",
    "        if val_loss < self.best - self.min_delta:\n",
    "            self.best = val_loss\n",
    "            self.counter = 0\n",
    "        else:\n",
    "            self.counter += 1\n",
    "            if self.counter >= self.patience:\n",
    "                self.early_stop = True\n",
    "        return self.early_stop\n",
    "\n",
    "early_stopping = EarlyStopping(patience=3, min_delta=1e-4)"
   ]
  },
  {
   "cell_type": "markdown",
   "id": "707b5c96",
   "metadata": {
    "papermill": {
     "duration": 0.002436,
     "end_time": "2025-08-22T21:01:47.414014",
     "exception": false,
     "start_time": "2025-08-22T21:01:47.411578",
     "status": "completed"
    },
    "tags": []
   },
   "source": [
    "# 3. Loading Model"
   ]
  },
  {
   "cell_type": "code",
   "execution_count": 5,
   "id": "57d4c3a9",
   "metadata": {
    "execution": {
     "iopub.execute_input": "2025-08-22T21:01:47.420044Z",
     "iopub.status.busy": "2025-08-22T21:01:47.419561Z",
     "iopub.status.idle": "2025-08-22T21:01:48.342591Z",
     "shell.execute_reply": "2025-08-22T21:01:48.341568Z"
    },
    "papermill": {
     "duration": 0.927301,
     "end_time": "2025-08-22T21:01:48.343756",
     "exception": false,
     "start_time": "2025-08-22T21:01:47.416455",
     "status": "completed"
    },
    "tags": []
   },
   "outputs": [
    {
     "name": "stderr",
     "output_type": "stream",
     "text": [
      "Downloading: \"https://download.pytorch.org/models/densenet121-a639ec97.pth\" to /root/.cache/torch/hub/checkpoints/densenet121-a639ec97.pth\n",
      "100%|██████████| 30.8M/30.8M [00:00<00:00, 75.5MB/s]\n",
      "/tmp/ipykernel_19/2192139910.py:14: FutureWarning: `torch.cuda.amp.GradScaler(args...)` is deprecated. Please use `torch.amp.GradScaler('cuda', args...)` instead.\n",
      "  scaler = GradScaler(enabled=(device.type == \"cuda\"))\n"
     ]
    }
   ],
   "source": [
    "def get_model(num_classes):\n",
    "    model = models.densenet121(weights=models.DenseNet121_Weights.DEFAULT)\n",
    "    model.classifier = nn.Sequential(\n",
    "    nn.Dropout(p=0.6),\n",
    "    nn.Linear(model.classifier.in_features, num_classes)\n",
    "    )\n",
    "    return model.to(device)\n",
    "\n",
    "num_classes = len(class_names)\n",
    "model = get_model(num_classes)\n",
    "criterion = nn.CrossEntropyLoss()\n",
    "optimizer = optim.AdamW(model.parameters(), lr=lr, weight_decay=weight_decay)\n",
    "scheduler = ReduceLROnPlateau(optimizer, mode='min', factor=0.5, patience=3)\n",
    "scaler = GradScaler(enabled=(device.type == \"cuda\"))"
   ]
  },
  {
   "cell_type": "markdown",
   "id": "482e8295",
   "metadata": {
    "papermill": {
     "duration": 0.002633,
     "end_time": "2025-08-22T21:01:48.349338",
     "exception": false,
     "start_time": "2025-08-22T21:01:48.346705",
     "status": "completed"
    },
    "tags": []
   },
   "source": [
    "# 4. Training and saving the model"
   ]
  },
  {
   "cell_type": "code",
   "execution_count": 6,
   "id": "08bfbbb9",
   "metadata": {
    "execution": {
     "iopub.execute_input": "2025-08-22T21:01:48.355547Z",
     "iopub.status.busy": "2025-08-22T21:01:48.355306Z",
     "iopub.status.idle": "2025-08-22T21:10:50.018521Z",
     "shell.execute_reply": "2025-08-22T21:10:50.017505Z"
    },
    "papermill": {
     "duration": 541.667964,
     "end_time": "2025-08-22T21:10:50.019950",
     "exception": false,
     "start_time": "2025-08-22T21:01:48.351986",
     "status": "completed"
    },
    "tags": []
   },
   "outputs": [
    {
     "name": "stdout",
     "output_type": "stream",
     "text": [
      "Epoch 1/20\n"
     ]
    },
    {
     "name": "stderr",
     "output_type": "stream",
     "text": [
      "100%|██████████| 279/279 [00:48<00:00,  5.79it/s]\n",
      "100%|██████████| 69/69 [00:09<00:00,  7.45it/s]\n"
     ]
    },
    {
     "name": "stdout",
     "output_type": "stream",
     "text": [
      "  train_loss=0.3494 | val_loss=0.0763 | val_f1=0.8993 | lr=1.00e-04\n",
      " New best F1: 0.8993 — saved to densenet121_best.pth\n",
      "Epoch 2/20\n"
     ]
    },
    {
     "name": "stderr",
     "output_type": "stream",
     "text": [
      "100%|██████████| 279/279 [00:46<00:00,  5.99it/s]\n",
      "100%|██████████| 69/69 [00:05<00:00, 13.52it/s]\n"
     ]
    },
    {
     "name": "stdout",
     "output_type": "stream",
     "text": [
      "  train_loss=0.0724 | val_loss=0.0260 | val_f1=0.9404 | lr=1.00e-04\n",
      " New best F1: 0.9404 — saved to densenet121_best.pth\n",
      "Epoch 3/20\n"
     ]
    },
    {
     "name": "stderr",
     "output_type": "stream",
     "text": [
      "100%|██████████| 279/279 [00:49<00:00,  5.69it/s]\n",
      "100%|██████████| 69/69 [00:04<00:00, 13.82it/s]\n"
     ]
    },
    {
     "name": "stdout",
     "output_type": "stream",
     "text": [
      "  train_loss=0.0307 | val_loss=0.0195 | val_f1=0.9581 | lr=1.00e-04\n",
      " New best F1: 0.9581 — saved to densenet121_best.pth\n",
      "Epoch 4/20\n"
     ]
    },
    {
     "name": "stderr",
     "output_type": "stream",
     "text": [
      "100%|██████████| 279/279 [00:48<00:00,  5.78it/s]\n",
      "100%|██████████| 69/69 [00:05<00:00, 12.46it/s]\n"
     ]
    },
    {
     "name": "stdout",
     "output_type": "stream",
     "text": [
      "  train_loss=0.0303 | val_loss=0.0277 | val_f1=0.9664 | lr=1.00e-04\n",
      " New best F1: 0.9664 — saved to densenet121_best.pth\n",
      "Epoch 5/20\n"
     ]
    },
    {
     "name": "stderr",
     "output_type": "stream",
     "text": [
      "100%|██████████| 279/279 [00:48<00:00,  5.74it/s]\n",
      "100%|██████████| 69/69 [00:05<00:00, 12.60it/s]\n"
     ]
    },
    {
     "name": "stdout",
     "output_type": "stream",
     "text": [
      "  train_loss=0.0238 | val_loss=0.0112 | val_f1=0.9720 | lr=1.00e-04\n",
      " New best F1: 0.9720 — saved to densenet121_best.pth\n",
      "Epoch 6/20\n"
     ]
    },
    {
     "name": "stderr",
     "output_type": "stream",
     "text": [
      "100%|██████████| 279/279 [00:48<00:00,  5.73it/s]\n",
      "100%|██████████| 69/69 [00:05<00:00, 12.76it/s]\n"
     ]
    },
    {
     "name": "stdout",
     "output_type": "stream",
     "text": [
      "  train_loss=0.0108 | val_loss=0.0200 | val_f1=0.9762 | lr=1.00e-04\n",
      " New best F1: 0.9762 — saved to densenet121_best.pth\n",
      "Epoch 7/20\n"
     ]
    },
    {
     "name": "stderr",
     "output_type": "stream",
     "text": [
      "100%|██████████| 279/279 [00:48<00:00,  5.77it/s]\n",
      "100%|██████████| 69/69 [00:04<00:00, 14.07it/s]\n"
     ]
    },
    {
     "name": "stdout",
     "output_type": "stream",
     "text": [
      "  train_loss=0.0084 | val_loss=0.0093 | val_f1=0.9793 | lr=1.00e-04\n",
      " New best F1: 0.9793 — saved to densenet121_best.pth\n",
      "Epoch 8/20\n"
     ]
    },
    {
     "name": "stderr",
     "output_type": "stream",
     "text": [
      "100%|██████████| 279/279 [00:48<00:00,  5.76it/s]\n",
      "100%|██████████| 69/69 [00:04<00:00, 13.89it/s]\n"
     ]
    },
    {
     "name": "stdout",
     "output_type": "stream",
     "text": [
      "  train_loss=0.0180 | val_loss=0.0357 | val_f1=0.9811 | lr=1.00e-04\n",
      " New best F1: 0.9811 — saved to densenet121_best.pth\n",
      "Epoch 9/20\n"
     ]
    },
    {
     "name": "stderr",
     "output_type": "stream",
     "text": [
      "100%|██████████| 279/279 [00:48<00:00,  5.75it/s]\n",
      "100%|██████████| 69/69 [00:04<00:00, 13.90it/s]\n"
     ]
    },
    {
     "name": "stdout",
     "output_type": "stream",
     "text": [
      "  train_loss=0.0168 | val_loss=0.0242 | val_f1=0.9827 | lr=1.00e-04\n",
      " New best F1: 0.9827 — saved to densenet121_best.pth\n",
      "Epoch 10/20\n"
     ]
    },
    {
     "name": "stderr",
     "output_type": "stream",
     "text": [
      "100%|██████████| 279/279 [00:48<00:00,  5.76it/s]\n",
      "100%|██████████| 69/69 [00:05<00:00, 12.46it/s]\n"
     ]
    },
    {
     "name": "stdout",
     "output_type": "stream",
     "text": [
      "  train_loss=0.0151 | val_loss=0.0267 | val_f1=0.9840 | lr=1.00e-04\n",
      " New best F1: 0.9840 — saved to densenet121_best.pth\n",
      " Early stopping triggered.\n"
     ]
    }
   ],
   "source": [
    "train_losses, val_losses, val_f1s = [], [], []\n",
    "best_f1 = -1.0\n",
    "best_path = \"densenet121_best.pth\"\n",
    "y_true, y_pred = [], []\n",
    "\n",
    "def run_epoch(loader, model, train=True):\n",
    "    if train:\n",
    "        model.train()\n",
    "    else:\n",
    "        model.eval()\n",
    "\n",
    "    running_loss = 0.0\n",
    "\n",
    "    pbar = tqdm(loader, total=len(loader))\n",
    "    for images, labels in pbar:\n",
    "        images = images.to(device, non_blocking=True).float()\n",
    "        labels = torch.as_tensor(labels, device=device)\n",
    "\n",
    "        optimizer.zero_grad(set_to_none=True)\n",
    "        with torch.amp.autocast(\"cuda\"):\n",
    "            outputs = model(images)\n",
    "            loss = criterion(outputs, labels)\n",
    "\n",
    "        if train:\n",
    "            scaler.scale(loss).backward()\n",
    "            scaler.step(optimizer)\n",
    "            scaler.update()\n",
    "\n",
    "        running_loss += loss.item() * images.size(0)\n",
    "        preds = outputs.argmax(1).detach().cpu().numpy()\n",
    "        y_pred.extend(preds.tolist())\n",
    "        y_true.extend(labels.detach().cpu().numpy().tolist())\n",
    "\n",
    "    epoch_loss = running_loss / len(loader.dataset)\n",
    "    report = classification_report(y_true, y_pred, output_dict=True, zero_division=0)\n",
    "    f1 = report['weighted avg']['f1-score']\n",
    "    return epoch_loss, f1, report\n",
    "\n",
    "for epoch in range(1, epochs + 1):\n",
    "    print(f\"Epoch {epoch}/{epochs}\")\n",
    "\n",
    "    tr_loss, tr_f1, _ = run_epoch(dataloaders[\"train\"], model, train=True)\n",
    "    with torch.no_grad():\n",
    "        val_loss, val_f1, val_report = run_epoch(dataloaders[\"val\"], model, train=False)\n",
    "\n",
    "    train_losses.append(tr_loss)\n",
    "    val_losses.append(val_loss)\n",
    "    val_f1s.append(val_f1)\n",
    "\n",
    "    scheduler.step(val_loss)\n",
    "\n",
    "    print(f\"  train_loss={tr_loss:.4f} | val_loss={val_loss:.4f} | val_f1={val_f1:.4f} | lr={optimizer.param_groups[0]['lr']:.2e}\")\n",
    "\n",
    "    if val_f1 > best_f1:\n",
    "        best_f1 = val_f1\n",
    "        torch.save(model.state_dict(), best_path)\n",
    "        print(f\" New best F1: {best_f1:.4f} — saved to {best_path}\")\n",
    "\n",
    "    if early_stopping.step(val_loss):\n",
    "        print(\" Early stopping triggered.\")\n",
    "        break"
   ]
  },
  {
   "cell_type": "markdown",
   "id": "01eddbf7",
   "metadata": {
    "papermill": {
     "duration": 0.123133,
     "end_time": "2025-08-22T21:10:50.312306",
     "exception": false,
     "start_time": "2025-08-22T21:10:50.189173",
     "status": "completed"
    },
    "tags": []
   },
   "source": [
    "# 5. Plotting Loss Curve"
   ]
  },
  {
   "cell_type": "code",
   "execution_count": 7,
   "id": "9a4ed0ed",
   "metadata": {
    "execution": {
     "iopub.execute_input": "2025-08-22T21:10:50.554408Z",
     "iopub.status.busy": "2025-08-22T21:10:50.553572Z",
     "iopub.status.idle": "2025-08-22T21:11:00.318740Z",
     "shell.execute_reply": "2025-08-22T21:11:00.318021Z"
    },
    "papermill": {
     "duration": 9.888074,
     "end_time": "2025-08-22T21:11:00.319995",
     "exception": false,
     "start_time": "2025-08-22T21:10:50.431921",
     "status": "completed"
    },
    "tags": []
   },
   "outputs": [
    {
     "name": "stderr",
     "output_type": "stream",
     "text": [
      "100%|██████████| 70/70 [00:09<00:00,  7.58it/s]\n"
     ]
    },
    {
     "name": "stdout",
     "output_type": "stream",
     "text": [
      "Test F1: 0.9842034971586714\n",
      "{\n",
      "  \"0\": {\n",
      "    \"precision\": 0.9866935785303133,\n",
      "    \"recall\": 0.9831291199582883,\n",
      "    \"f1-score\": 0.9849081242421416,\n",
      "    \"support\": 26851\n",
      "  },\n",
      "  \"1\": {\n",
      "    \"precision\": 0.9813171241050119,\n",
      "    \"recall\": 0.9868001649979375,\n",
      "    \"f1-score\": 0.9840510068619935,\n",
      "    \"support\": 26667\n",
      "  },\n",
      "  \"2\": {\n",
      "    \"precision\": 0.9833198380566801,\n",
      "    \"recall\": 0.9826435246995995,\n",
      "    \"f1-score\": 0.982981565048465,\n",
      "    \"support\": 24717\n",
      "  },\n",
      "  \"3\": {\n",
      "    \"precision\": 0.9780621572212066,\n",
      "    \"recall\": 0.975776574522656,\n",
      "    \"f1-score\": 0.9769180290450512,\n",
      "    \"support\": 17545\n",
      "  },\n",
      "  \"4\": {\n",
      "    \"precision\": 0.9921941769699733,\n",
      "    \"recall\": 0.992533485323454,\n",
      "    \"f1-score\": 0.9923638021426944,\n",
      "    \"support\": 17545\n",
      "  },\n",
      "  \"accuracy\": 0.9842047209353629,\n",
      "  \"macro avg\": {\n",
      "    \"precision\": 0.984317374976637,\n",
      "    \"recall\": 0.984176573900387,\n",
      "    \"f1-score\": 0.9842445054680692,\n",
      "    \"support\": 113325\n",
      "  },\n",
      "  \"weighted avg\": {\n",
      "    \"precision\": 0.984207869810342,\n",
      "    \"recall\": 0.9842047209353629,\n",
      "    \"f1-score\": 0.9842034971586714,\n",
      "    \"support\": 113325\n",
      "  }\n",
      "}\n"
     ]
    },
    {
     "data": {
      "image/png": "[encoded data removed]",
      "text/plain": [
       "<Figure size 640x480 with 1 Axes>"
      ]
     },
     "metadata": {},
     "output_type": "display_data"
    }
   ],
   "source": [
    "if Path(best_path).exists():\n",
    "    model.load_state_dict(torch.load(best_path, map_location=device))\n",
    "\n",
    "with torch.no_grad():\n",
    "    test_loss, test_f1, test_report = run_epoch(dataloaders[\"test\"], model, train=False)\n",
    "\n",
    "print(\"Test F1:\", test_f1)\n",
    "print(json.dumps(test_report, indent=2))\n",
    "\n",
    "plt.plot(train_losses, label='Train Loss')\n",
    "plt.plot(val_losses, label='Validation Loss')\n",
    "plt.xlabel('Epoch')\n",
    "plt.ylabel('Loss')\n",
    "plt.legend()\n",
    "plt.title(\"Training and Validation Loss (Densenet121)\")\n",
    "plt.show()"
   ]
  },
  {
   "cell_type": "markdown",
   "id": "018b8118",
   "metadata": {
    "papermill": {
     "duration": 0.122974,
     "end_time": "2025-08-22T21:11:00.573567",
     "exception": false,
     "start_time": "2025-08-22T21:11:00.450593",
     "status": "completed"
    },
    "tags": []
   },
   "source": [
    "# 6. Confusion Matrix"
   ]
  },
  {
   "cell_type": "code",
   "execution_count": 8,
   "id": "6d817ead",
   "metadata": {
    "execution": {
     "iopub.execute_input": "2025-08-22T21:11:00.822177Z",
     "iopub.status.busy": "2025-08-22T21:11:00.821877Z",
     "iopub.status.idle": "2025-08-22T21:11:01.159256Z",
     "shell.execute_reply": "2025-08-22T21:11:01.158478Z"
    },
    "papermill": {
     "duration": 0.46413,
     "end_time": "2025-08-22T21:11:01.160402",
     "exception": false,
     "start_time": "2025-08-22T21:11:00.696272",
     "status": "completed"
    },
    "tags": []
   },
   "outputs": [
    {
     "data": {
      "image/png": "[encoded data removed]",
      "text/plain": [
       "<Figure size 640x480 with 2 Axes>"
      ]
     },
     "metadata": {},
     "output_type": "display_data"
    },
    {
     "name": "stdout",
     "output_type": "stream",
     "text": [
      "                 precision    recall  f1-score   support\n",
      "\n",
      "     cercospora       0.99      0.98      0.98     26851\n",
      "        healthy       0.98      0.99      0.98     26667\n",
      "mites_and_trips       0.98      0.98      0.98     24717\n",
      "    nutritional       0.98      0.98      0.98     17545\n",
      " powdery mildew       0.99      0.99      0.99     17545\n",
      "\n",
      "       accuracy                           0.98    113325\n",
      "      macro avg       0.98      0.98      0.98    113325\n",
      "   weighted avg       0.98      0.98      0.98    113325\n",
      "\n"
     ]
    }
   ],
   "source": [
    "cm = confusion_matrix(y_true, y_pred)\n",
    "sns.heatmap(cm, annot=True, fmt='d', xticklabels=class_names, yticklabels=class_names)\n",
    "plt.title(\"Confusion Matrix\")\n",
    "plt.xlabel(\"Predicted\")\n",
    "plt.ylabel(\"True\")\n",
    "plt.show()\n",
    "\n",
    "print(classification_report(y_true, y_pred, target_names=class_names))"
   ]
  }
 ],
 "metadata": {
  "kaggle": {
   "accelerator": "nvidiaTeslaT4",
   "dataSources": [
    {
     "datasetId": 8118772,
     "sourceId": 12836968,
     "sourceType": "datasetVersion"
    }
   ],
   "dockerImageVersionId": 31090,
   "isGpuEnabled": true,
   "isInternetEnabled": true,
   "language": "python",
   "sourceType": "notebook"
  },
  "kernelspec": {
   "display_name": "Python 3",
   "language": "python",
   "name": "python3"
  },
  "language_info": {
   "codemirror_mode": {
    "name": "ipython",
    "version": 3
   },
   "file_extension": ".py",
   "mimetype": "text/x-python",
   "name": "python",
   "nbconvert_exporter": "python",
   "pygments_lexer": "ipython3",
   "version": "3.11.13"
  },
  "papermill": {
   "default_parameters": {},
   "duration": 597.27564,
   "end_time": "2025-08-22T21:11:03.110377",
   "environment_variables": {},
   "exception": null,
   "input_path": "__notebook__.ipynb",
   "output_path": "__notebook__.ipynb",
   "parameters": {},
   "start_time": "2025-08-22T21:01:05.834737",
   "version": "2.6.0"
  }
 },
 "nbformat": 4,
 "nbformat_minor": 5
}
